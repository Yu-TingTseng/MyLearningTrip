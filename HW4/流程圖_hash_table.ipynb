{
 "cells": [
  {
   "cell_type": "markdown",
   "metadata": {},
   "source": [
    "###Hash Table"
   ]
  },
  {
   "cell_type": "markdown",
   "metadata": {},
   "source": [
    "##說明"
   ]
  },
  {
   "cell_type": "markdown",
   "metadata": {},
   "source": [
    "雜湊表\n",
    "1. 是一種通過映射把資料進行儲存的演算法\n",
    "2. 在映射的過程裡，進行加密\n",
    "3. 能有更好的保密環境\n",
    "4. 透過計算index，來加密\n",
    "5. 優點:當index的範圍擴大或是index設定恰當，就能有很高的效率去尋找或是進行增減\n",
    "6. 缺點:當index的範圍太小或是index設定不恰當，就很容易增加運算時間和記憶體暫存(例如:所有key都放在同一個index裡，變得跟list的結構相似)"
   ]
  },
  {
   "cell_type": "markdown",
   "metadata": {},
   "source": [
    "##流程圖"
   ]
  },
  {
   "cell_type": "markdown",
   "metadata": {},
   "source": [
    "![](https://github.com/Yu-TingTseng/MyLearningTrip/blob/master/%E5%9C%96%E7%89%87%E5%8D%80/S__29442050.jpg?raw=true)"
   ]
  },
  {
   "cell_type": "markdown",
   "metadata": {},
   "source": [
    "如果圖顯示不出來請按:\n",
    "    \n",
    "https://github.com/Yu-TingTseng/MyLearningTrip/blob/master/%E5%9C%96%E7%89%87%E5%8D%80/S__29442050.jpg"
   ]
  },
  {
   "cell_type": "markdown",
   "metadata": {},
   "source": [
    "##程式碼"
   ]
  },
  {
   "cell_type": "code",
   "execution_count": null,
   "metadata": {},
   "outputs": [],
   "source": [
    "from Crypto.Hash import MD5\n",
    "class ListNode:\n",
    "    def __init__(self, val):\n",
    "        self.val = val #建立節點\n",
    "        self.next = None\n",
    "\n",
    "class MyHashSet:\n",
    "    def __init__(self, capacity):\n",
    "        self.capacity = capacity #建立空間\n",
    "        self.data = [None] * capacity\n",
    "\n",
    "    def add(self, key): #新增資料\n",
    "        \n",
    "        h = MD5.new() #使用MD5加密\n",
    "        h.update(key.encode(\"utf8\")) #指定編碼，使用utf8\n",
    "        b=int(h.hexdigest(),16) #將16進位轉10進位\n",
    "        index=b%self.capacity #取除capacity的餘數，希望index可以隨著capacity可大可小\n",
    "        \n",
    "        if self.data[index] == None: #如果index還未被建立\n",
    "            self.data[index]=ListNode(key) #那就直接把key給放進去\n",
    "            return \n",
    "        \n",
    "        else: #如果index已被建立\n",
    "            self.data[index].next=ListNode(key) #不可用append加在後面\n",
    "            return \n",
    " \n",
    "    def remove(self, key): #移除資料\n",
    "        \n",
    "        h = MD5.new() #使用MD5加密\n",
    "        h.update(key.encode(\"utf8\")) #指定編碼，使用utf8\n",
    "        b=int(h.hexdigest(),16) #將16進位轉10進位\n",
    "        index=b%self.capacity #取除capacity的餘數，希望index可以隨著capacity可大可小\n",
    "        \n",
    "        if self.data[index] == None: #如果index還未被建立\n",
    "            return #代表根本不會有key的存在，直接回傳\n",
    "        \n",
    "        elif self.data[index] and key.find: #index已建立，且key存在\n",
    "            if key==self.data[index] and self.next == None: #index裡只有key一個值\n",
    "                self.data[index]==None #直接將它變為無\n",
    "                return\n",
    "            \n",
    "            else: #index裡有不只一個key\n",
    "                self.data[index]==self.data[index].next\n",
    "                self.data[index].next==None\n",
    "                return\n",
    "            \n",
    "        else: #index已建立，但key不存在\n",
    "            return #沒有key的存在，直接回傳 \n",
    "\n",
    "    def contains(self, key): #確認是否包含資料\n",
    "        \n",
    "        h = MD5.new() #使用MD5加密\n",
    "        h.update(key.encode(\"utf8\")) #指定編碼，使用utf8\n",
    "        b=int(h.hexdigest(),16) #將16進位轉10進位\n",
    "        index=b%self.capacity #取除capacity的餘數，希望index可以隨著capacity可大可小\n",
    "        \n",
    "        if self.data[index] == None: #如果index還未被建立\n",
    "            return False #代表根本不會有key的存在，直接回傳False\n",
    "        \n",
    "        elif self.data[index] and key.find: #如果index已建立，且key存在(.find用法是網路上查的，已附在參考資料)\n",
    "            return True #回傳True\n",
    "        \n",
    "        else: #index已建立，但key不存在\n",
    "            return False #回傳False\n"
   ]
  },
  {
   "cell_type": "code",
   "execution_count": null,
   "metadata": {},
   "outputs": [],
   "source": [
    "hashSet = MyHashSet()\n",
    "hashSet.add(\"dog\")\n",
    "hashSet.add(\"pig\")\n",
    "rel = hashSet.contains(\"pig\")\n",
    "print(rel)\n",
    "rel = hashSet.contains(\"dog\")\n",
    "print(rel)\n",
    "rel = hashSet.contains(\"cat\")\n",
    "print(rel)\n",
    "hashSet.add(\"bird\")\n",
    "rel = hashSet.contains(\"bird\")\n",
    "print(rel)\n",
    "hashSet.remove(\"pig\")\n",
    "rel = hashSet.contains(\"pig\")\n",
    "print(rel)"
   ]
  },
  {
   "cell_type": "code",
   "execution_count": 1,
   "metadata": {},
   "outputs": [],
   "source": [
    "from Crypto.Hash import MD5"
   ]
  },
  {
   "cell_type": "code",
   "execution_count": 7,
   "metadata": {},
   "outputs": [
    {
     "name": "stdout",
     "output_type": "stream",
     "text": [
      "d41d8cd98f00b204e9800998ecf8427e\n"
     ]
    }
   ],
   "source": [
    "#官網測試碼\n",
    "h = MD5.new() \n",
    "print(h.hexdigest())"
   ]
  },
  {
   "cell_type": "code",
   "execution_count": 34,
   "metadata": {},
   "outputs": [
    {
     "name": "stdout",
     "output_type": "stream",
     "text": [
      "0x26e078b87fdaa3206ab8bf63a6096c07\n"
     ]
    },
    {
     "data": {
      "text/plain": [
       "51676186842841857803933928148091628551"
      ]
     },
     "execution_count": 34,
     "metadata": {},
     "output_type": "execute_result"
    }
   ],
   "source": [
    "h = MD5.new()\n",
    "h.update(\"sample data\".encode(\"utf8\")) #要指定編碼\".encode(\"utf8\")\"，否則會出現\"Object type <class 'str'> cannot be passed to C code\n",
    "print (hex(int(h.hexdigest(),16)))\n",
    "a=str(h.hexdigest())\n",
    "int(a,16) #將16進位轉10進位\n",
    "int(h.hexdigest(),16)"
   ]
  },
  {
   "cell_type": "code",
   "execution_count": 2,
   "metadata": {},
   "outputs": [],
   "source": [
    "class ListNode:\n",
    "    def __init__(self, val):\n",
    "        self.val = val #建立節點\n",
    "        self.next = None\n",
    "\n",
    "class MyHashSet:\n",
    "    def __init__(self, capacity=5):\n",
    "        self.capacity = capacity #建立空間\n",
    "        self.data = [None] * capacity\n",
    "\n",
    "    def add(self, key):\n",
    "        \n",
    "        h = MD5.new() #使用MD5加密\n",
    "        h.update(key.encode(\"utf8\")) #指定編碼\n",
    "        b=int(h.hexdigest(),16) #將16進位轉10進位\n",
    "        index=b%5 #取除5的餘數，原本是除與10後來發現當capacity比他小時就放不進去了，改成5就可以了\n",
    "        \n",
    "        if self.data[index] == None: #如果index還未被建立\n",
    "            self.data[index]=ListNode(key) #那就直接把key給放進去\n",
    "            return \n",
    "        else: #如果index已被建立\n",
    "            self.data[index].next=ListNode(key) #不可用append加在後面\n",
    "            return \n",
    "    def contains(self, key):\n",
    "        \n",
    "        h = MD5.new() \n",
    "        h.update(key.encode(\"utf8\"))\n",
    "        b=int(h.hexdigest(),16) \n",
    "        index=b%5\n",
    "        \n",
    "        if self.data[index] == None: #如果index還未被建立\n",
    "            return False #代表根本不會有key的存在，直接回傳False\n",
    "        elif self.data[index] and key.find: #如果index已建立，且key存在(.find用法是網路上查的，已附在參考資料)\n",
    "            return True #回傳True\n",
    "        else: #index已建立，但key不存在\n",
    "            return False #回傳False"
   ]
  },
  {
   "cell_type": "code",
   "execution_count": 13,
   "metadata": {},
   "outputs": [],
   "source": [
    "class ListNode:\n",
    "    def __init__(self, val):\n",
    "        self.val = val #建立節點\n",
    "        self.next = None\n",
    "\n",
    "class MyHashSet:\n",
    "    def __init__(self, capacity=5):\n",
    "        self.capacity = capacity #建立空間\n",
    "        self.data = [None] * capacity\n",
    "\n",
    "    def add(self, key):\n",
    "        \n",
    "        h = MD5.new() #使用MD5加密\n",
    "        h.update(key.encode(\"utf8\")) #指定編碼，使用utf8\n",
    "        b=int(h.hexdigest(),16) #將16進位轉10進位\n",
    "        index=b%self.capacity #取除capacity的餘數，希望index可以隨著capacity可大可小\n",
    "        \n",
    "        if self.data[index] == None: #如果index還未被建立\n",
    "            self.data[index]=ListNode(key) #那就直接把key給放進去\n",
    "            return \n",
    "        else: #如果index已被建立\n",
    "            self.data[index].next=ListNode(key) #不可用append加在後面\n",
    "            return \n",
    "        \n",
    "    def contains(self, key):\n",
    "        \n",
    "        h = MD5.new()\n",
    "        h.update(key.encode(\"utf8\"))\n",
    "        b=int(h.hexdigest(),16) \n",
    "        index=b%self.capacity \n",
    "        \n",
    "        if self.data[index] == None: #如果index還未被建立\n",
    "            return False #代表根本不會有key的存在，直接回傳False\n",
    "        elif self.data[index] and key.find: #如果index已建立，且key存在(.find用法是網路上查的，已附在參考資料)\n",
    "            return True #回傳True\n",
    "        else: #index已建立，但key不存在\n",
    "            return False #回傳False\n",
    "    \n",
    "    def remove(self, key):\n",
    "        h = MD5.new()\n",
    "        h.update(key.encode(\"utf8\")) \n",
    "        b=int(h.hexdigest(),16) \n",
    "        index=b%self.capacity \n",
    "        \n",
    "        if self.data[index] == None: #如果index還未被建立\n",
    "            return #代表根本不會有key的存在，直接回傳\n",
    "        elif self.data[index] and key.find: #index已建立，且key存在\n",
    "            if key==self.data[index] and self.next == None: #index裡只有key一個值\n",
    "                self.data[index]==None #直接將它變為無\n",
    "                return\n",
    "            else: #index裡有不只一個key\n",
    "                self.data[index]==self.data[index].next\n",
    "                self.data[index].next==None\n",
    "                return\n",
    "        else: #index已建立，但key不存在\n",
    "            return #沒有key的存在，直接回傳             "
   ]
  },
  {
   "cell_type": "code",
   "execution_count": 14,
   "metadata": {},
   "outputs": [
    {
     "name": "stdout",
     "output_type": "stream",
     "text": [
      "True\n",
      "True\n"
     ]
    }
   ],
   "source": [
    "hashSet = MyHashSet()\n",
    "hashSet.add(\"dog\")\n",
    "hashSet.add(\"pig\")\n",
    "rel = hashSet.contains(\"dog\")\n",
    "print(rel)\n",
    "rel = hashSet.contains(\"dog\")\n",
    "print(rel)"
   ]
  },
  {
   "cell_type": "code",
   "execution_count": 16,
   "metadata": {},
   "outputs": [
    {
     "name": "stdout",
     "output_type": "stream",
     "text": [
      "True\n",
      "True\n",
      "True\n",
      "True\n",
      "True\n"
     ]
    }
   ],
   "source": [
    "hashSet = MyHashSet()\n",
    "hashSet.add(\"dog\")\n",
    "hashSet.add(\"pig\")\n",
    "rel = hashSet.contains(\"pig\")\n",
    "print(rel)\n",
    "rel = hashSet.contains(\"dog\")\n",
    "print(rel)\n",
    "rel = hashSet.contains(\"cat\")\n",
    "print(rel)\n",
    "hashSet.add(\"bird\")\n",
    "rel = hashSet.contains(\"girl\")\n",
    "print(rel)\n",
    "hashSet.remove(\"pig\")\n",
    "rel = hashSet.contains(\"pig\")\n",
    "print(rel)"
   ]
  },
  {
   "cell_type": "markdown",
   "metadata": {},
   "source": [
    "##參考資料"
   ]
  },
  {
   "cell_type": "markdown",
   "metadata": {},
   "source": [
    "https://kite.com/python/examples/2084/crypto-generate-a-new-md5-hash\n",
    "    \n",
    "https://www.youtube.com/results?search_query=hash+table\n",
    "    \n",
    "https://stackoverflow.com/questions/50302827/object-type-class-str-cannot-be-passed-to-c-code-virtual-environment/50302966\n",
    "    \n",
    "https://www.itread01.com/p/500989.html\n",
    "\n",
    "https://blog.techbridge.cc/2017/01/21/simple-hash-table-intro/"
   ]
  }
 ],
 "metadata": {
  "kernelspec": {
   "display_name": "Python 3",
   "language": "python",
   "name": "python3"
  },
  "language_info": {
   "codemirror_mode": {
    "name": "ipython",
    "version": 3
   },
   "file_extension": ".py",
   "mimetype": "text/x-python",
   "name": "python",
   "nbconvert_exporter": "python",
   "pygments_lexer": "ipython3",
   "version": "3.7.1"
  }
 },
 "nbformat": 4,
 "nbformat_minor": 2
}
