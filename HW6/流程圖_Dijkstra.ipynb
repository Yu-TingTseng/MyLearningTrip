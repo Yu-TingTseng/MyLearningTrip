{
 "cells": [
  {
   "cell_type": "markdown",
   "metadata": {},
   "source": [
    "### Dijkstra"
   ]
  },
  {
   "cell_type": "markdown",
   "metadata": {},
   "source": [
    "戴克斯特拉算法，這是目前已知的最快的單源最短路徑演算法，是通過為每個頂點v保留目前為止所找到的從s到v的最短路徑來工作的。初始時，原點s的路徑權重當作0。若對於頂點m存在能直接到達的邊（s,m），則把d[m]設為w（s, m）,同時把所有其他（s不能直接到達的）頂點的路徑長度設為無窮大，即表示我們不知道任何通向這些頂點的路徑（對於所有頂點的集合 V 中的任意頂點 v， 若 v 不為 s 和上述 m 之一，d[v] = ∞）。當演算法結束時，d[v] 中儲存的便是從 s 到 v 的最短路徑，或者如果路徑不存在的話是無窮大。\n",
    "\n",
    "步驟:\n",
    "1. 建立節點和之間的權重\n",
    "2. 從0開始(最小的開始)\n",
    "3. 找到連接之間最小的權重(必須扣除0，0表示走不到或是無限遠)\n",
    "4. 再從最小的那個接下去\n",
    "5. 直到所有的點都被加入到dict(找到所有點最小走訪路徑)，演算法結束\n",
    "\n",
    "時間複雜度:O(n^2)\n",
    "\n",
    "開放最短路徑優先演算法是該演算法在網路路由中的一個具體實現。\n"
   ]
  },
  {
   "cell_type": "markdown",
   "metadata": {},
   "source": [
    "### Kruskal"
   ]
  },
  {
   "cell_type": "markdown",
   "metadata": {},
   "source": [
    "克魯斯克爾演算法，一種用來尋找最小生成樹的演算法，跟Prim演算法和Boruvka演算法為貪婪演算法的應用，在此種演算法裡，節點之間不能形成圈，且最後只能有一個parent。\n",
    "\n",
    "步驟:\n",
    "1. 建立節點和之間的權重\n",
    "2. 從權重最小的開始建樹\n",
    "3. 由src當parent，當有兩個parent時，其中一個被取代\n",
    "4. 當所有節點都被接起來時(以最小的權重)，演算法結束\n",
    "\n",
    "時間複雜度:O(|E|log|V|)"
   ]
  },
  {
   "cell_type": "markdown",
   "metadata": {},
   "source": [
    "## 流程圖"
   ]
  },
  {
   "cell_type": "markdown",
   "metadata": {},
   "source": [
    "![](https://github.com/Yu-TingTseng/MyLearningTrip/blob/master/%E5%9C%96%E7%89%87%E5%8D%80/S__30597123.jpg?raw=true)"
   ]
  },
  {
   "cell_type": "markdown",
   "metadata": {},
   "source": [
    "如果圖片顯示不出來請點:https://github.com/Yu-TingTseng/MyLearningTrip/blob/master/%E5%9C%96%E7%89%87%E5%8D%80/S__30597123.jpg"
   ]
  },
  {
   "cell_type": "markdown",
   "metadata": {},
   "source": [
    "## 測試值"
   ]
  },
  {
   "cell_type": "code",
   "execution_count": 75,
   "metadata": {},
   "outputs": [
    {
     "name": "stdout",
     "output_type": "stream",
     "text": [
      "4\n",
      "1\n",
      "{'0': 0, '1': 4}\n",
      "4\n",
      "0\n",
      "{'0': 4, '1': 4}\n",
      "4\n",
      "1\n",
      "{'0': 4, '1': 4}\n",
      "4\n",
      "0\n",
      "{'0': 4, '1': 4}\n",
      "4\n",
      "1\n",
      "{'0': 4, '1': 4}\n",
      "4\n",
      "0\n",
      "{'0': 4, '1': 4}\n",
      "4\n",
      "1\n",
      "{'0': 4, '1': 4}\n",
      "4\n",
      "0\n",
      "{'0': 4, '1': 4}\n",
      "Dijkstra ({'0': 4, '1': 4}, [0, 1, 0, 1, 0, 1, 0, 1, 0])\n",
      "Kruskal {'2-3': 4, '0-3': 5, '0-1': 10}\n"
     ]
    }
   ],
   "source": [
    "g = Graph(9)\n",
    "g.graph = [[0,4,0,0,0,0,0,8,0],\n",
    "          [4,0,8,0,0,0,0,11,0],\n",
    "          [0,8,0,7,0,4,0,0,2],\n",
    "          [0,0,7,0,9,14,0,0,0],\n",
    "          [0,0,0,9,0,10,0,0,0],\n",
    "          [0,0,4,14,10,0,2,0,0],\n",
    "          [0,0,0,0,0,2,0,1,6],\n",
    "          [8,11,0,0,0,0,1,0,7],\n",
    "          [0,0,2,0,0,0,6,7,0]]\n",
    "print(\"Dijkstra\",g.Dijkstra(0))\n",
    "\n",
    "g=Graph(4)\n",
    "g.addEdge(0,1,10)\n",
    "g.addEdge(0,2,6)\n",
    "g.addEdge(0,3,5)\n",
    "g.addEdge(1,3,15)\n",
    "g.addEdge(2,3,4)\n",
    "print(\"Kruskal\",g.Kruskal())"
   ]
  },
  {
   "cell_type": "markdown",
   "metadata": {},
   "source": [
    "## 程式碼"
   ]
  },
  {
   "cell_type": "code",
   "execution_count": 72,
   "metadata": {},
   "outputs": [],
   "source": [
    "from collections import defaultdict \n",
    "\n",
    "class Graph(): \n",
    "\n",
    "    def __init__(self, vertices): \n",
    "        self.V = vertices \n",
    "        self.graph = [] \n",
    "        self.graph_matrix = [[0 for column in range(vertices)]  \n",
    "                    for row in range(vertices)] \n",
    "        self.kg = [] #設list存變數\n",
    "        \n",
    "    def addEdge(self,u,v,w): \n",
    "        self.kg.append((u,v,w)) #新增變數到圖裡\n",
    "        \n",
    "    def Dijkstra(self, s):\n",
    "        a={} #設一個字典去存放我要的\n",
    "        a[str(s)]=0 #一開始先把0給丟進去\n",
    "        b=[0] #設一個已經走過的\n",
    "        c=0 #代表第幾個list\n",
    "\n",
    "        for i in range(0,len(self.graph)-1): #點有幾個，迴圈走幾次\n",
    "            tem=[]\n",
    "            tem=tem+self.graph[c]\n",
    "            while 0 in tem: #先把我要看的那一個list的0都刪除                \n",
    "                tem.remove(0)     \n",
    "                \n",
    "            d=min(tem) #剩下最小的\n",
    "            print(d)\n",
    "            e=self.graph[c].index(d) #找到對應的點\n",
    "            print(e)\n",
    "            if e not in a:\n",
    "                a[str(e)]=d\n",
    "            print(a)\n",
    "            \n",
    "            while e in a: #找到還沒加進去中最小的\n",
    "                \n",
    "                tem.remove(d) #將已經走過的路刪除(不考慮)\n",
    "                print(d) ##### \n",
    "                d=min(tem) #在找下一個最小的\n",
    "                e=self.graph[c].index(d) #再找他的位置 \n",
    "                print(e) ##### \n",
    "            \n",
    "            \n",
    "            c=e #更新c\n",
    "            b.append(e) #走過的點也加到走過的list    \n",
    "            i+=1\n",
    "        return a ,b\n",
    "\n",
    "    def Kruskal(self):\n",
    "        a=set() #設一個set放所有的點\n",
    "        for i in range(len(self.kg)): #用迴圈去找到所有的點\n",
    "            a.add(self.kg[i][0]) #怕有什麼點找不到，要將前兩個值都要放進去\n",
    "            a.add(self.kg[i][1]) #怕有什麼點找不到，要將前兩個值都要放進去\n",
    "            i+=1\n",
    "        b=set() #設一個set來確定已走過的\n",
    "        c=[] #用來存放最後答案的\n",
    "        weight=sorted(self.kg,key=lambda e:e[2],reverse=False) #用最後一個數字來排大小(小到大)\n",
    "        while b != a and weight: #當點還沒全部連接到一起，且list裡有東西時\n",
    "            e=weight.pop(0) #取出第一個數\n",
    "            if e[0] in b and e[1] in b: #當前後兩個數字都在b裡，就表示已經連接過了\n",
    "                continue #跳出這次的循環，去下一輪\n",
    "            c.append(e) #如果還沒加進list，就加入\n",
    "            b.update(e[:2]) #更新set，用e的前面兩個\n",
    "        d={} #新增一個dict\n",
    "        for i in range(len(c)): #設迴圈去跑\n",
    "            x=str(c[i][0]) #前面的點\n",
    "            y=str(c[i][1]) #後面的點\n",
    "            z=x+\"-\"+y #助教要求的長像\n",
    "            d[z]=c[i][2] #將點到點跟權數加到dict裡\n",
    "            i+=1\n",
    "        \n",
    "        return d #回傳字典"
   ]
  },
  {
   "cell_type": "code",
   "execution_count": 70,
   "metadata": {},
   "outputs": [],
   "source": [
    "from collections import defaultdict \n",
    "\n",
    "class Graph(): \n",
    "\n",
    "    def __init__(self, vertices): \n",
    "        self.V = vertices \n",
    "        self.graph = [] \n",
    "        self.graph_matrix = [[0 for column in range(vertices)]  \n",
    "                    for row in range(vertices)] \n",
    "\n",
    "    def Dijkstra(self, s):\n",
    "        a={} #設一個字典去存放我要的\n",
    "        a[str(s)]=0 #一開始先把0給丟進去\n",
    "        b=[0] #設一個已經走過的\n",
    "        c=0 #代表第幾個list\n",
    "\n",
    "        for i in range(0,len(self.graph)-1): #點有幾個，迴圈走幾次\n",
    "            tem=[]\n",
    "            tem=tem+self.graph[c]\n",
    "            while 0 in tem: #先把我要看的那一個list的0都刪除                \n",
    "                tem.remove(0)     \n",
    "                \n",
    "            d=min(tem) #剩下最小的\n",
    "            print(d)\n",
    "            e=self.graph[c].index(d) #找到對應的點\n",
    "            print(e)\n",
    "            if e not in a:\n",
    "                a[str(e)]=d\n",
    "            print(a)\n",
    "            \n",
    "            while e in a: #找到還沒加進去中最小的\n",
    "                \n",
    "                tem.remove(d) #將已經走過的路刪除(不考慮)\n",
    "                print(d) ##### \n",
    "                d=min(tem) #在找下一個最小的\n",
    "                e=self.graph[c].index(d) #再找他的位置 \n",
    "                print(e) ##### \n",
    "            \n",
    "            \n",
    "            c=e #更新c\n",
    "            b.append(e) #走過的點也加到走過的list    \n",
    "            i+=1\n",
    "        return a ,b"
   ]
  },
  {
   "cell_type": "code",
   "execution_count": 16,
   "metadata": {},
   "outputs": [
    {
     "data": {
      "text/plain": [
       "1"
      ]
     },
     "execution_count": 16,
     "metadata": {},
     "output_type": "execute_result"
    }
   ],
   "source": [
    "while 0 in b:\n",
    "    b.remove(0)\n",
    "    min(b)\n",
    "min(b)"
   ]
  },
  {
   "cell_type": "code",
   "execution_count": 50,
   "metadata": {},
   "outputs": [
    {
     "data": {
      "text/plain": [
       "[0, 1, 2, 3]"
      ]
     },
     "execution_count": 50,
     "metadata": {},
     "output_type": "execute_result"
    }
   ],
   "source": [
    "b=[0,0,1,2,3]\n",
    "b.remove(0)\n",
    "tem=[]\n",
    "tem=tem+b\n",
    "tem"
   ]
  },
  {
   "cell_type": "code",
   "execution_count": 71,
   "metadata": {},
   "outputs": [
    {
     "name": "stdout",
     "output_type": "stream",
     "text": [
      "4\n",
      "1\n",
      "{'0': 0, '1': 4}\n",
      "4\n",
      "0\n",
      "{'0': 4, '1': 4}\n",
      "4\n",
      "1\n",
      "{'0': 4, '1': 4}\n",
      "4\n",
      "0\n",
      "{'0': 4, '1': 4}\n",
      "4\n",
      "1\n",
      "{'0': 4, '1': 4}\n",
      "4\n",
      "0\n",
      "{'0': 4, '1': 4}\n",
      "4\n",
      "1\n",
      "{'0': 4, '1': 4}\n",
      "4\n",
      "0\n",
      "{'0': 4, '1': 4}\n",
      "Dijkstra ({'0': 4, '1': 4}, [0, 1, 0, 1, 0, 1, 0, 1, 0])\n"
     ]
    },
    {
     "data": {
      "text/plain": [
       "9"
      ]
     },
     "execution_count": 71,
     "metadata": {},
     "output_type": "execute_result"
    }
   ],
   "source": [
    "g = Graph(9)\n",
    "g.graph = [[0,4,0,0,0,0,0,8,0],\n",
    "          [4,0,8,0,0,0,0,11,0],\n",
    "          [0,8,0,7,0,4,0,0,2],\n",
    "          [0,0,7,0,9,14,0,0,0],\n",
    "          [0,0,0,9,0,10,0,0,0],\n",
    "          [0,0,4,14,10,0,2,0,0],\n",
    "          [0,0,0,0,0,2,0,1,6],\n",
    "          [8,11,0,0,0,0,1,0,7],\n",
    "          [0,0,2,0,0,0,6,7,0]]\n",
    "print(\"Dijkstra\",g.Dijkstra(0))\n",
    "len(g.graph)"
   ]
  },
  {
   "cell_type": "code",
   "execution_count": 58,
   "metadata": {},
   "outputs": [],
   "source": [
    "from collections import defaultdict \n",
    "\n",
    "class Graph(): \n",
    "\n",
    "    def __init__(self, vertices): \n",
    "        self.V = vertices \n",
    "        self.graph = [] \n",
    "        self.graph_matrix = [[0 for column in range(vertices)]  \n",
    "                    for row in range(vertices)] \n",
    "        self.kg = [] #設list存變數\n",
    "        \n",
    "        \n",
    "    def addEdge(self,u,v,w): \n",
    "        self.kg.append((u,v,w)) #新增變數到圖裡\n",
    "               \n",
    "    def Kruskal(self):\n",
    "        a=set() #設一個set放所有的點\n",
    "        for i in range(len(self.kg)): #用迴圈去找到所有的點\n",
    "            a.add(self.kg[i][0]) #怕有什麼點找不到，要將前兩個值都要放進去\n",
    "            a.add(self.kg[i][1]) #怕有什麼點找不到，要將前兩個值都要放進去\n",
    "            i+=1\n",
    "        b=set() #設一個set來確定已走過的\n",
    "        c=[] #用來存放最後答案的\n",
    "        weight=sorted(self.kg,key=lambda e:e[2],reverse=False) #用最後一個數字來排大小(小到大)\n",
    "        while b != a and weight: #當點還沒全部連接到一起，且list裡有東西時\n",
    "            e=weight.pop(0) #取出第一個數\n",
    "            if e[0] in b and e[1] in b: #當前後兩個數字都在b裡，就表示已經連接過了\n",
    "                continue #跳出這次的循環，去下一輪\n",
    "            c.append(e) #如果還沒加進list，就加入\n",
    "            b.update(e[:2]) #更新set，用e的前面兩個\n",
    "        d={} #新增一個dict\n",
    "        for i in range(len(c)): #設迴圈去跑\n",
    "            x=str(c[i][0]) #前面的點\n",
    "            y=str(c[i][1]) #後面的點\n",
    "            z=x+\"-\"+y #助教要求的長像\n",
    "            d[z]=c[i][2] #將點到點跟權數加到dict裡\n",
    "            i+=1\n",
    "        \n",
    "        return d #回傳字典"
   ]
  },
  {
   "cell_type": "code",
   "execution_count": 57,
   "metadata": {},
   "outputs": [
    {
     "data": {
      "text/plain": [
       "[(0, 1, 10), (0, 2, 6), (0, 3, 5), (1, 3, 15)]"
      ]
     },
     "execution_count": 57,
     "metadata": {},
     "output_type": "execute_result"
    }
   ],
   "source": [
    "b\n",
    "b.append((0,1,10))\n",
    "b.append((0,1,10))\n",
    "a=[(0,1,10),(0,2,6),(0,3,5),(1,3,15),(2,3,4)]\n",
    "sorted(a,key=lambda e:e[2],reverse=True)\n",
    "d={}\n",
    "for i in range(len(a)):\n",
    "    x=str(a[i][0])\n",
    "    y=str(a[i][1])\n",
    "    z=x+\"-\"+y\n",
    "    d[z]=a[i][2]\n",
    "    i+=1\n",
    "d\n"
   ]
  },
  {
   "cell_type": "code",
   "execution_count": 43,
   "metadata": {},
   "outputs": [
    {
     "data": {
      "text/plain": [
       "{0, 1, 2, 3}"
      ]
     },
     "execution_count": 43,
     "metadata": {},
     "output_type": "execute_result"
    }
   ],
   "source": [
    "a=[(0,1,10),(0,2,6),(0,3,5),(1,3,15),(2,3,4)]\n",
    "c=set()\n",
    "for i in range(len(a)):\n",
    "    c.add(a[i][0])\n",
    "    c.add(a[i][1])\n",
    "    i+=1\n",
    "c"
   ]
  },
  {
   "cell_type": "code",
   "execution_count": 59,
   "metadata": {},
   "outputs": [
    {
     "name": "stdout",
     "output_type": "stream",
     "text": [
      "Kruskal {'2-3': 4, '0-3': 5, '0-1': 10}\n"
     ]
    }
   ],
   "source": [
    "g=Graph(4)\n",
    "g.addEdge(0,1,10)\n",
    "g.addEdge(0,2,6)\n",
    "g.addEdge(0,3,5)\n",
    "g.addEdge(1,3,15)\n",
    "g.addEdge(2,3,4)\n",
    "print(\"Kruskal\",g.Kruskal())"
   ]
  },
  {
   "cell_type": "markdown",
   "metadata": {},
   "source": [
    "## 參考資料:"
   ]
  },
  {
   "cell_type": "markdown",
   "metadata": {},
   "source": [
    "https://zh.wikipedia.org/wiki/%E6%88%B4%E5%85%8B%E6%96%AF%E7%89%B9%E6%8B%89%E7%AE%97%E6%B3%95#%E6%99%82%E9%96%93%E8%A4%87%E9%9B%9C%E5%BA%A6\n",
    "    \n",
    "https://zh.wikipedia.org/wiki/%E5%85%8B%E9%B2%81%E6%96%AF%E5%85%8B%E5%B0%94%E6%BC%94%E7%AE%97%E6%B3%95\n",
    "    \n",
    "https://www.runoob.com/python/python-dictionary.html\n",
    "    \n",
    "https://stackoverflow.com/questions/22897209/dijkstras-algorithm-in-python\n",
    "    \n",
    "https://www.itread01.com/content/1549051928.html\n",
    "    \n",
    "https://www.twblogs.net/a/5c4177e1bd9eee35b21e87b7"
   ]
  }
 ],
 "metadata": {
  "kernelspec": {
   "display_name": "Python 3",
   "language": "python",
   "name": "python3"
  },
  "language_info": {
   "codemirror_mode": {
    "name": "ipython",
    "version": 3
   },
   "file_extension": ".py",
   "mimetype": "text/x-python",
   "name": "python",
   "nbconvert_exporter": "python",
   "pygments_lexer": "ipython3",
   "version": "3.7.1"
  }
 },
 "nbformat": 4,
 "nbformat_minor": 2
}
