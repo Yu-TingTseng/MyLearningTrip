{
 "cells": [
  {
   "cell_type": "markdown",
   "metadata": {},
   "source": [
    "##Heap Sort"
   ]
  },
  {
   "cell_type": "markdown",
   "metadata": {},
   "source": [
    "06170134 曾鈺婷"
   ]
  },
  {
   "cell_type": "markdown",
   "metadata": {},
   "source": [
    "#What is \"Heap Sort\"?"
   ]
  },
  {
   "cell_type": "markdown",
   "metadata": {},
   "source": [
    "#堆積排序（Heapsort）是指利用堆積這種資料結構所設計的一種排序演算法。堆積是一個近似完全二元樹的結構，並同時滿足堆積的性質：即子節點的鍵值或索引總是小於（或者大於）它的父節點。(出自維基百科)"
   ]
  },
  {
   "cell_type": "markdown",
   "metadata": {},
   "source": [
    "##Explanation"
   ]
  },
  {
   "cell_type": "markdown",
   "metadata": {},
   "source": [
    "#像樹狀圖一樣，我是是使用minheap\n",
    "    #小的放在父節點，他的下面兩個數都要比他大\n",
    "    #每一輪最後最上面最小的數跟最後一個節點交換，離開樹放到陣列裡，由前往後依序排\n",
    "#小的放前面"
   ]
  },
  {
   "cell_type": "markdown",
   "metadata": {},
   "source": [
    "![HS-流程圖](https://github.com/Yu-TingTseng/MyLearningTrip/blob/master/Document%2020191025_image2%20(1).jpg?raw=true)"
   ]
  },
  {
   "cell_type": "markdown",
   "metadata": {},
   "source": [
    "https://github.com/Yu-TingTseng/MyLearningTrip/blob/master/Document%2020191025_image2%20(1).jpg"
   ]
  },
  {
   "cell_type": "markdown",
   "metadata": {},
   "source": [
    "##Example"
   ]
  },
  {
   "cell_type": "markdown",
   "metadata": {},
   "source": [
    "[6,8,9,20,13,1,34]"
   ]
  },
  {
   "cell_type": "code",
   "execution_count": 14,
   "metadata": {},
   "outputs": [],
   "source": [
    "og=[6,8,9,20,13,1,34]"
   ]
  },
  {
   "cell_type": "code",
   "execution_count": 23,
   "metadata": {},
   "outputs": [],
   "source": [
    "def HeapSort(list):\n",
    "    while len(list)<=1:\n",
    "        return list\n",
    "    for n in range (0,len(list),1):\n",
    "        l=n*2\n",
    "        r=n*2+1\n",
    "        if "
   ]
  },
  {
   "cell_type": "code",
   "execution_count": null,
   "metadata": {},
   "outputs": [],
   "source": []
  }
 ],
 "metadata": {
  "kernelspec": {
   "display_name": "Python 3",
   "language": "python",
   "name": "python3"
  },
  "language_info": {
   "codemirror_mode": {
    "name": "ipython",
    "version": 3
   },
   "file_extension": ".py",
   "mimetype": "text/x-python",
   "name": "python",
   "nbconvert_exporter": "python",
   "pygments_lexer": "ipython3",
   "version": "3.7.1"
  }
 },
 "nbformat": 4,
 "nbformat_minor": 2
}
