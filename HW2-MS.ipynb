{
 "cells": [
  {
   "cell_type": "markdown",
   "metadata": {},
   "source": [
    "##Merge Sort"
   ]
  },
  {
   "cell_type": "markdown",
   "metadata": {},
   "source": [
    "06170134 曾鈺婷"
   ]
  },
  {
   "cell_type": "markdown",
   "metadata": {},
   "source": [
    "#What is \"Merge Sort\"?"
   ]
  },
  {
   "cell_type": "markdown",
   "metadata": {},
   "source": [
    "#合併排序（Merge sort），是建立在合併操作上的一種有效的排序演算法，效率為{\\displaystyle O(n\\log n)}{\\displaystyle O(n\\log n)}（大O符號）。1945年由約翰·馮·紐曼首次提出。該演算法是採用分治法（Divide and Conquer）的一個非常典型的應用，且各層分治遞迴可以同時進行。(出自維基百科)"
   ]
  },
  {
   "cell_type": "markdown",
   "metadata": {},
   "source": [
    "##Explanation"
   ]
  },
  {
   "cell_type": "markdown",
   "metadata": {},
   "source": [
    "#先拆成兩個兩個數去比較，在下來四個四個數比較，最後一起比較\n",
    "#小的放前面"
   ]
  },
  {
   "cell_type": "markdown",
   "metadata": {},
   "source": [
    "![MS流程圖](https://raw.githubusercontent.com/Yu-TingTseng/MyLearningTrip/master/Document%2020191025_image1%20(1).jpg)"
   ]
  },
  {
   "cell_type": "markdown",
   "metadata": {},
   "source": [
    "##Example"
   ]
  },
  {
   "cell_type": "markdown",
   "metadata": {},
   "source": [
    "[6,8,9,20,13,1,34]"
   ]
  },
  {
   "cell_type": "code",
   "execution_count": 29,
   "metadata": {},
   "outputs": [
    {
     "data": {
      "text/plain": [
       "[6, 8, 9, 20, 1, 13, 34]"
      ]
     },
     "execution_count": 29,
     "metadata": {},
     "output_type": "execute_result"
    }
   ],
   "source": [
    "og=[6,8,9,20,13,1,34]\n",
    "def MergeSort(list):\n",
    "    y=[]\n",
    "    for n in range(0,len(list),2): #拆成兩個兩個數去比大小\n",
    "        x=list[n:n+2]\n",
    "\n",
    "        if len(x)==1: #修改了上面因奇數發生的錯誤\n",
    "            y.append(x[0])\n",
    "\n",
    "        elif x[0]>x[1] : #比大小，小的放前面\n",
    "            y.append(x[1])\n",
    "            y.append(x[0])\n",
    "\n",
    "        elif x[0]<x[1]: #同上\n",
    "            y.append(x[0])\n",
    "            y.append(x[1])\n",
    "\n",
    "        else: #沒有大小問題，可以隨便放\n",
    "            y.append(x[0])\n",
    "            y.append(x[1])\n",
    "    for n in range(0,len(list),4):\n",
    "        x=list[n:n+4]\n",
    "        a=[n]\n",
    "        b=[n+2]\n",
    "        if a>b:\n",
    "            \n",
    "    return y\n",
    "MergeSort(og)"
   ]
  },
  {
   "cell_type": "code",
   "execution_count": 1,
   "metadata": {},
   "outputs": [],
   "source": [
    "og=[6,8,9,20,13,1,34]"
   ]
  },
  {
   "cell_type": "code",
   "execution_count": 29,
   "metadata": {},
   "outputs": [
    {
     "name": "stdout",
     "output_type": "stream",
     "text": [
      "[6, 8]\n",
      "[9, 20]\n",
      "[13, 1]\n",
      "[34]\n"
     ]
    }
   ],
   "source": [
    "for a in range(0,len(og),2):\n",
    "    print(og[a:a+2])"
   ]
  },
  {
   "cell_type": "code",
   "execution_count": 17,
   "metadata": {},
   "outputs": [
    {
     "ename": "RecursionError",
     "evalue": "maximum recursion depth exceeded",
     "output_type": "error",
     "traceback": [
      "\u001b[1;31m---------------------------------------------------------------------------\u001b[0m",
      "\u001b[1;31mRecursionError\u001b[0m                            Traceback (most recent call last)",
      "\u001b[1;32m<ipython-input-17-c3c74a97f8c3>\u001b[0m in \u001b[0;36m<module>\u001b[1;34m\u001b[0m\n\u001b[0;32m     18\u001b[0m \u001b[1;33m\u001b[0m\u001b[0m\n\u001b[0;32m     19\u001b[0m     \u001b[1;32mreturn\u001b[0m \u001b[0ml1\u001b[0m\u001b[1;33m\u001b[0m\u001b[1;33m\u001b[0m\u001b[0m\n\u001b[1;32m---> 20\u001b[1;33m \u001b[0mMergeSort\u001b[0m\u001b[1;33m(\u001b[0m\u001b[0mog\u001b[0m\u001b[1;33m)\u001b[0m\u001b[1;33m\u001b[0m\u001b[1;33m\u001b[0m\u001b[0m\n\u001b[0m",
      "\u001b[1;32m<ipython-input-17-c3c74a97f8c3>\u001b[0m in \u001b[0;36mMergeSort\u001b[1;34m(list)\u001b[0m\n\u001b[0;32m      1\u001b[0m \u001b[1;32mdef\u001b[0m \u001b[0mMergeSort\u001b[0m\u001b[1;33m(\u001b[0m\u001b[0mlist\u001b[0m\u001b[1;33m)\u001b[0m\u001b[1;33m:\u001b[0m\u001b[1;33m\u001b[0m\u001b[1;33m\u001b[0m\u001b[0m\n\u001b[1;32m----> 2\u001b[1;33m     \u001b[1;32mwhile\u001b[0m \u001b[0mlist\u001b[0m\u001b[1;33m==\u001b[0m\u001b[0mMergeSort\u001b[0m\u001b[1;33m(\u001b[0m\u001b[0mlist\u001b[0m\u001b[1;33m)\u001b[0m\u001b[1;33m:\u001b[0m\u001b[1;33m\u001b[0m\u001b[1;33m\u001b[0m\u001b[0m\n\u001b[0m\u001b[0;32m      3\u001b[0m         \u001b[1;32mreturn\u001b[0m \u001b[0mlist\u001b[0m\u001b[1;33m\u001b[0m\u001b[1;33m\u001b[0m\u001b[0m\n\u001b[0;32m      4\u001b[0m     \u001b[1;32melse\u001b[0m\u001b[1;33m:\u001b[0m\u001b[1;33m\u001b[0m\u001b[1;33m\u001b[0m\u001b[0m\n\u001b[0;32m      5\u001b[0m         \u001b[1;32mfor\u001b[0m \u001b[0mn\u001b[0m \u001b[1;32min\u001b[0m \u001b[0mlist\u001b[0m\u001b[1;33m:\u001b[0m\u001b[1;33m\u001b[0m\u001b[1;33m\u001b[0m\u001b[0m\n",
      "... last 1 frames repeated, from the frame below ...\n",
      "\u001b[1;32m<ipython-input-17-c3c74a97f8c3>\u001b[0m in \u001b[0;36mMergeSort\u001b[1;34m(list)\u001b[0m\n\u001b[0;32m      1\u001b[0m \u001b[1;32mdef\u001b[0m \u001b[0mMergeSort\u001b[0m\u001b[1;33m(\u001b[0m\u001b[0mlist\u001b[0m\u001b[1;33m)\u001b[0m\u001b[1;33m:\u001b[0m\u001b[1;33m\u001b[0m\u001b[1;33m\u001b[0m\u001b[0m\n\u001b[1;32m----> 2\u001b[1;33m     \u001b[1;32mwhile\u001b[0m \u001b[0mlist\u001b[0m\u001b[1;33m==\u001b[0m\u001b[0mMergeSort\u001b[0m\u001b[1;33m(\u001b[0m\u001b[0mlist\u001b[0m\u001b[1;33m)\u001b[0m\u001b[1;33m:\u001b[0m\u001b[1;33m\u001b[0m\u001b[1;33m\u001b[0m\u001b[0m\n\u001b[0m\u001b[0;32m      3\u001b[0m         \u001b[1;32mreturn\u001b[0m \u001b[0mlist\u001b[0m\u001b[1;33m\u001b[0m\u001b[1;33m\u001b[0m\u001b[0m\n\u001b[0;32m      4\u001b[0m     \u001b[1;32melse\u001b[0m\u001b[1;33m:\u001b[0m\u001b[1;33m\u001b[0m\u001b[1;33m\u001b[0m\u001b[0m\n\u001b[0;32m      5\u001b[0m         \u001b[1;32mfor\u001b[0m \u001b[0mn\u001b[0m \u001b[1;32min\u001b[0m \u001b[0mlist\u001b[0m\u001b[1;33m:\u001b[0m\u001b[1;33m\u001b[0m\u001b[1;33m\u001b[0m\u001b[0m\n",
      "\u001b[1;31mRecursionError\u001b[0m: maximum recursion depth exceeded"
     ]
    }
   ],
   "source": [
    "def MergeSort(list):\n",
    "    if len(list)<=1:\n",
    "        return list\n",
    "    else:\n",
    "        y=[]\n",
    "        for n in list:\n",
    "            mid=len(list)/2\n",
    "            a=\n",
    "    \n",
    "    return \n",
    "MergeSort(og)"
   ]
  },
  {
   "cell_type": "code",
   "execution_count": 24,
   "metadata": {},
   "outputs": [
    {
     "ename": "IndexError",
     "evalue": "list index out of range",
     "output_type": "error",
     "traceback": [
      "\u001b[1;31m---------------------------------------------------------------------------\u001b[0m",
      "\u001b[1;31mIndexError\u001b[0m                                Traceback (most recent call last)",
      "\u001b[1;32m<ipython-input-24-d71e903bf523>\u001b[0m in \u001b[0;36m<module>\u001b[1;34m\u001b[0m\n\u001b[0;32m      2\u001b[0m     \u001b[0mx\u001b[0m\u001b[1;33m=\u001b[0m\u001b[0mog\u001b[0m\u001b[1;33m[\u001b[0m\u001b[0mn\u001b[0m\u001b[1;33m:\u001b[0m\u001b[0mn\u001b[0m\u001b[1;33m+\u001b[0m\u001b[1;36m2\u001b[0m\u001b[1;33m]\u001b[0m\u001b[1;33m\u001b[0m\u001b[1;33m\u001b[0m\u001b[0m\n\u001b[0;32m      3\u001b[0m     \u001b[0ma\u001b[0m\u001b[1;33m=\u001b[0m\u001b[0mx\u001b[0m\u001b[1;33m[\u001b[0m\u001b[1;36m0\u001b[0m\u001b[1;33m]\u001b[0m\u001b[1;33m\u001b[0m\u001b[1;33m\u001b[0m\u001b[0m\n\u001b[1;32m----> 4\u001b[1;33m     \u001b[0mb\u001b[0m\u001b[1;33m=\u001b[0m\u001b[0mx\u001b[0m\u001b[1;33m[\u001b[0m\u001b[1;36m1\u001b[0m\u001b[1;33m]\u001b[0m\u001b[1;33m\u001b[0m\u001b[1;33m\u001b[0m\u001b[0m\n\u001b[0m\u001b[0;32m      5\u001b[0m     \u001b[0ml1\u001b[0m\u001b[1;33m=\u001b[0m\u001b[1;33m[\u001b[0m\u001b[1;33m]\u001b[0m\u001b[1;33m\u001b[0m\u001b[1;33m\u001b[0m\u001b[0m\n\u001b[0;32m      6\u001b[0m     \u001b[0ml2\u001b[0m\u001b[1;33m=\u001b[0m\u001b[1;33m[\u001b[0m\u001b[1;33m]\u001b[0m\u001b[1;33m\u001b[0m\u001b[1;33m\u001b[0m\u001b[0m\n",
      "\u001b[1;31mIndexError\u001b[0m: list index out of range"
     ]
    }
   ],
   "source": [
    "#嘗試第一部分的排序(無用板)，如果先設b=x[1],最後一個是奇數就會發生錯誤\n",
    "for n in range(0,len(og)):\n",
    "    x=og[n:n+2]\n",
    "    a=x[0]\n",
    "    b=x[1]\n",
    "    l1=[]\n",
    "    l2=[]\n",
    "    if a>b:\n",
    "        l1.append(b)\n",
    "    elif a<b:\n",
    "        l1.append(a)\n",
    "    else:\n",
    "        l1.append(a,b)      "
   ]
  },
  {
   "cell_type": "code",
   "execution_count": 20,
   "metadata": {},
   "outputs": [
    {
     "name": "stdout",
     "output_type": "stream",
     "text": [
      "[6, 8]\n",
      "[9, 20]\n",
      "[1, 13]\n",
      "[34]\n"
     ]
    }
   ],
   "source": [
    "#嘗試第一部分的排序(有用版)\n",
    "for n in range(0,len(og),2): #拆成兩個兩個數去比大小\n",
    "    x=og[n:n+2]\n",
    "    y=[]\n",
    "    if len(x)==1: #修改了上面因奇數發生的錯誤\n",
    "        y.append(x[0])\n",
    "        print(y)\n",
    "    elif x[0]>x[1] : #比大小，小的放前面\n",
    "        y.append(x[1])\n",
    "        y.append(x[0])\n",
    "        print(y)\n",
    "    elif x[0]<x[1]: #同上\n",
    "        y.append(x[0])\n",
    "        y.append(x[1])\n",
    "        print(y)\n",
    "    else: #沒有大小問題，可以隨便放\n",
    "        y.append(x[0])\n",
    "        y.append(x[1])\n",
    "        print(y)"
   ]
  },
  {
   "cell_type": "code",
   "execution_count": 30,
   "metadata": {},
   "outputs": [
    {
     "name": "stdout",
     "output_type": "stream",
     "text": [
      "4\n",
      "3\n"
     ]
    }
   ],
   "source": [
    "#這是在確認每一次迴圈裡的數，有幾個，因為上面一直有錯，後來發現沒問題，只是忘了打print\n",
    "for n in range(0,len(og),4):\n",
    "    x=og[n:n+4]\n",
    "    y=[]\n",
    "    print(len(x))"
   ]
  },
  {
   "cell_type": "code",
   "execution_count": 31,
   "metadata": {},
   "outputs": [
    {
     "data": {
      "text/plain": [
       "[6, 8, 9, 20, 1, 13, 34]"
      ]
     },
     "execution_count": 31,
     "metadata": {},
     "output_type": "execute_result"
    }
   ],
   "source": [
    "#嘗試第一部分的排序(最終版)\n",
    "y=[]\n",
    "for n in range(0,len(og),2): #拆成兩個兩個數去比大小\n",
    "    x=og[n:n+2]\n",
    "\n",
    "    if len(x)==1: #修改了上面因奇數發生的錯誤\n",
    "        y.append(x[0])\n",
    "        \n",
    "    elif x[0]>x[1] : #比大小，小的放前面\n",
    "        y.append(x[1])\n",
    "        y.append(x[0])\n",
    "\n",
    "    elif x[0]<x[1]: #同上\n",
    "        y.append(x[0])\n",
    "        y.append(x[1])\n",
    "\n",
    "    else: #沒有大小問題，可以隨便放\n",
    "        y.append(x[0])\n",
    "        y.append(x[1])\n",
    "y"
   ]
  },
  {
   "cell_type": "code",
   "execution_count": 32,
   "metadata": {},
   "outputs": [
    {
     "ename": "SyntaxError",
     "evalue": "invalid syntax (<ipython-input-32-cc312405e265>, line 16)",
     "output_type": "error",
     "traceback": [
      "\u001b[1;36m  File \u001b[1;32m\"<ipython-input-32-cc312405e265>\"\u001b[1;36m, line \u001b[1;32m16\u001b[0m\n\u001b[1;33m    elif a<b:\u001b[0m\n\u001b[1;37m       ^\u001b[0m\n\u001b[1;31mSyntaxError\u001b[0m\u001b[1;31m:\u001b[0m invalid syntax\n"
     ]
    }
   ],
   "source": [
    "z=[]\n",
    "for n in range(0,len(y),4):\n",
    "        x=y[n:n+4]\n",
    "        a=y[n]\n",
    "        b=y[n+2]\n",
    "        if a>b:\n",
    "            z.append(b)\n",
    "            b=y[n+3]\n",
    "            if a>b:\n",
    "                z.append(b)\n",
    "                z.append(a)\n",
    "                z.append(y[n+1])\n",
    "            elif a<b:\n",
    "                z.append(a)\n",
    "                a=y[n+1]\n",
    "                elif a<b:\n",
    "                    z.append(a)\n",
    "                    z.append(b)\n",
    "                else:\n",
    "                    z.append(a)\n",
    "                    z.append(y[n+1])"
   ]
  },
  {
   "cell_type": "code",
   "execution_count": null,
   "metadata": {},
   "outputs": [],
   "source": []
  }
 ],
 "metadata": {
  "kernelspec": {
   "display_name": "Python 3",
   "language": "python",
   "name": "python3"
  },
  "language_info": {
   "codemirror_mode": {
    "name": "ipython",
    "version": 3
   },
   "file_extension": ".py",
   "mimetype": "text/x-python",
   "name": "python",
   "nbconvert_exporter": "python",
   "pygments_lexer": "ipython3",
   "version": "3.7.1"
  }
 },
 "nbformat": 4,
 "nbformat_minor": 2
}
