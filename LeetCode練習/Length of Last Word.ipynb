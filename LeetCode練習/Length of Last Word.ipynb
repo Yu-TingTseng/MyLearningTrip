{
 "cells": [
  {
   "cell_type": "markdown",
   "metadata": {},
   "source": [
    "### Length of Last Word"
   ]
  },
  {
   "cell_type": "markdown",
   "metadata": {},
   "source": [
    "![問題1](https://github.com/Yu-TingTseng/MyLearningTrip/blob/master/%E5%9C%96%E7%89%87%E5%8D%80/1577454644780.jpg?raw=true)"
   ]
  },
  {
   "cell_type": "markdown",
   "metadata": {},
   "source": [
    "## 程式碼"
   ]
  },
  {
   "cell_type": "code",
   "execution_count": null,
   "metadata": {},
   "outputs": [],
   "source": [
    "class Solution:\n",
    "    def lengthOfLastWord(self, s: str) -> int:\n",
    "        s = s.strip() #刪除最後的空白值\n",
    "        a = s.split(\" \") #從空白分開\n",
    "        if len(a)==0: #沒有第二個字\n",
    "            return 0\n",
    "        else: \n",
    "            b = a[-1] #從最後一個字 \n",
    "            return len(b)"
   ]
  },
  {
   "cell_type": "markdown",
   "metadata": {},
   "source": [
    "## 測試"
   ]
  },
  {
   "cell_type": "markdown",
   "metadata": {},
   "source": [
    "![input](https://github.com/Yu-TingTseng/MyLearningTrip/blob/master/%E5%9C%96%E7%89%87%E5%8D%80/1577454700902.jpg?raw=true)"
   ]
  },
  {
   "cell_type": "markdown",
   "metadata": {},
   "source": [
    "## 結果"
   ]
  },
  {
   "cell_type": "markdown",
   "metadata": {},
   "source": [
    "![結果](https://github.com/Yu-TingTseng/MyLearningTrip/blob/master/%E5%9C%96%E7%89%87%E5%8D%80/1577454735089.jpg?raw=true)\n",
    "![](https://github.com/Yu-TingTseng/MyLearningTrip/blob/master/%E5%9C%96%E7%89%87%E5%8D%80/1577454679465.jpg?raw=true)"
   ]
  },
  {
   "cell_type": "markdown",
   "metadata": {},
   "source": [
    "判斷有沒有第二個字的時候一直有問題，不知道為什麼我用 if s[-1]==' ': 時，錯在out of range\n",
    "\n",
    "參考資料:\n",
    "\n",
    "https://zhuanlan.zhihu.com/p/54738146\n",
    "    \n",
    "https://wenyuangg.github.io/posts/python3/python-string.html\n",
    "\n",
    "https://leetcode.com/problems/length-of-last-word/discuss/460427/Python3-98.4-Runtime"
   ]
  }
 ],
 "metadata": {
  "kernelspec": {
   "display_name": "Python 3",
   "language": "python",
   "name": "python3"
  },
  "language_info": {
   "codemirror_mode": {
    "name": "ipython",
    "version": 3
   },
   "file_extension": ".py",
   "mimetype": "text/x-python",
   "name": "python",
   "nbconvert_exporter": "python",
   "pygments_lexer": "ipython3",
   "version": "3.7.1"
  }
 },
 "nbformat": 4,
 "nbformat_minor": 2
}
