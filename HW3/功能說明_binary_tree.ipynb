{
 "cells": [
  {
   "cell_type": "markdown",
   "metadata": {},
   "source": [
    "###功能說明"
   ]
  },
  {
   "cell_type": "markdown",
   "metadata": {},
   "source": [
    "#insert\n",
    " 1. 排序插入\n",
    " 2. 跟root做比較，小於等於在左邊，大的在右邊\n",
    " 3. 從最上面一路比到最下面(沒有子節點了)就把值放入那個位置 "
   ]
  },
  {
   "cell_type": "markdown",
   "metadata": {},
   "source": [
    "#delete\n",
    " 1. 刪除樹裡不要得值\n",
    " 2. 先利用search找出要刪除的目標\n",
    " 3. 分四種情況去作業--沒有子節點、只有右邊有、只有左邊有、都有子節點"
   ]
  },
  {
   "cell_type": "markdown",
   "metadata": {},
   "source": [
    "#search\n",
    " 1. 搜尋功能\n",
    " 2. 跟root做比較，小於等於在左邊，大的在右邊\n",
    " 3. 一層一層去找目標在哪裡\n",
    " 4. 很重要的功能，能有效率地幫我們找到資料\n",
    " 5. 以後實作可能也會常用到"
   ]
  },
  {
   "cell_type": "markdown",
   "metadata": {},
   "source": [
    "#modify\n",
    " 1. 修改樹裡的值，這裡是要刪除target和沒有4的數\n",
    " 2. 分兩種去作業--有需要刪除target、沒有target\n",
    " 3. 利用search找出要刪除的目標\n",
    " 4. 再用delete去進行刪除"
   ]
  },
  {
   "cell_type": "markdown",
   "metadata": {},
   "source": [
    "##程式碼"
   ]
  },
  {
   "cell_type": "code",
   "execution_count": null,
   "metadata": {},
   "outputs": [],
   "source": [
    "class Solution(object):\n",
    "    def insert(self, root, val):\n",
    "        \"\"\"\n",
    "        :type root: TreeNode\n",
    "        :type val: int\n",
    "        :rtype: TreeNode(inserted node)\n",
    "        \"\"\"\n",
    "        if root.val == None: #如果root不存在\n",
    "            root=TreeNode(val) #建立一個新節點\n",
    "            return root #回傳root\n",
    "        \n",
    "        else: #root存在\n",
    "            if val > root.val: #val比root大\n",
    "                if root.right==None: #且右子點不存在\n",
    "                    root.right=TreeNode(val) #建立一個新節點\n",
    "                    return root.right #回傳這個新節點\n",
    "                \n",
    "                else:\n",
    "                    return Solution().insert(root.right,val) #如果存在持續比較，一直呼喚自己(第一次作業一樣的概念)\n",
    " \n",
    "            elif val<= root.val: #val比root小或等於root\n",
    "                if root.left==None: #且左子點不存在\n",
    "                    root.left=TreeNode(val) #建立一個新節點\n",
    "                    return root.left #回傳這個新節點\n",
    "                \n",
    "                else:                    \n",
    "                    return Solution().insert(root.left,val)#如果存在持續比較，一直呼喚自己(第一次作業一樣的概念)\n",
    "                \n",
    "                \n",
    "    def delete(self, root, target):\n",
    "        \"\"\"\n",
    "        :type root: TreeNode\n",
    "        :type target: int\n",
    "        :rtype: TreeNode(the root of new completed binary search tree) (cannot search())\n",
    "        \"\"\"\n",
    "        if Solution().search(root,target)==None: #在樹裡找不到需要刪除的值時，略過\n",
    "            return None\n",
    "        else: #target存在\n",
    "            target =root\n",
    "            if root.left==None and root.right==None: #左右都沒有子節點\n",
    "                return root==None\n",
    "            elif root.left==None and root.right #只有右邊\n",
    "                root.right=a\n",
    "                root=b\n",
    "                root.right=b\n",
    "                root=a\n",
    "                return root.right==None\n",
    "            elif root.right==None and root.left: #只有左邊\n",
    "                root.left=a\n",
    "                root=b\n",
    "                root.left=b\n",
    "                root=a\n",
    "                return root.left==None\n",
    "            else: #兩邊都有\n",
    "                return root==None\n",
    "        \n",
    "        \n",
    "    def search(self, root, target):\n",
    "        \"\"\"\n",
    "        :type root: TreeNode\n",
    "        :type target: int\n",
    "        :rtype: TreeNode(searched node)\n",
    "        \"\"\"\n",
    "        if root.val == None: #如果root不存在\n",
    "            return None\n",
    "        \n",
    "        else: #root存在\n",
    "            if target > root.val: #target比root大\n",
    "                if root.right==None:#且右子點不存在\n",
    "                    return None\n",
    "                \n",
    "                else:\n",
    "                    return Solution().search(root.right,target) #如果存在持續比較，一直呼喚自己(第一次作業一樣的概念)\n",
    "                \n",
    "            elif target< root.val: #target比root小\n",
    "                if root.left==None: #且左子點不存在\n",
    "                    return None\n",
    "                \n",
    "                else:                    \n",
    "                    return Solution().search(root.left,target) #如果存在持續比較，一直呼喚自己(第一次作業一樣的概念)\n",
    "                \n",
    "            else: #等於root\n",
    "            #在search裡等於要拉出來單獨討論，不然會一直進入迴圈，然後不管什麼值輸入，都會跑出false\n",
    "                return root #不能打等於target\n",
    "            \n",
    "            \n",
    "    def modify(self, root, target, new_val): #還在思索中\n",
    "        \"\"\"\n",
    "        :type root: TreeNode\n",
    "        :type target: int\n",
    "        :type new_val: int\n",
    "        :rtype:TreeNode(the root of new completed binary search tree) (cannot search())\n",
    "        \"\"\"\n",
    "        if Solution().search(root,target)==None: #如果沒有需要刪除target時\n",
    "\n",
    "            return \n",
    "        else: #有target需要刪除\n",
    "            return Solution().delete(root,target)"
   ]
  },
  {
   "cell_type": "markdown",
   "metadata": {},
   "source": [
    "##參考資料:"
   ]
  },
  {
   "cell_type": "markdown",
   "metadata": {},
   "source": [
    "http://alrightchiu.github.io/SecondRound/binary-search-tree-introjian-jie.html#insert\n",
    "    \n",
    "https://emn178.pixnet.net/blog/post/94574434\n",
    "    \n",
    "https://zh.wikipedia.org/wiki/%E4%BA%8C%E5%85%83%E6%90%9C%E5%B0%8B%E6%A8%B9\n",
    "\n",
    "https://github.com/Yu-TingTseng/MyLearningTrip/blob/master/HomeWork1/HW01.ipynb"
   ]
  }
 ],
 "metadata": {
  "kernelspec": {
   "display_name": "Python 3",
   "language": "python",
   "name": "python3"
  },
  "language_info": {
   "codemirror_mode": {
    "name": "ipython",
    "version": 3
   },
   "file_extension": ".py",
   "mimetype": "text/x-python",
   "name": "python",
   "nbconvert_exporter": "python",
   "pygments_lexer": "ipython3",
   "version": "3.7.1"
  }
 },
 "nbformat": 4,
 "nbformat_minor": 2
}
