{
 "cells": [
  {
   "cell_type": "markdown",
   "metadata": {},
   "source": [
    "###Binary Search Tree"
   ]
  },
  {
   "cell_type": "markdown",
   "metadata": {},
   "source": [
    "##說明"
   ]
  },
  {
   "cell_type": "markdown",
   "metadata": {},
   "source": [
    "1. 二元搜尋樹，是二元樹的衍生\n",
    "2. 一個節點只能有最多兩個子節點，每一層樹的數最多只能有2^i個(i是層數)\n",
    "3. 左邊的子節點放比父節點小的或等於的，右邊的子節點放大於的\n",
    "4. 相比其他資料結構，優勢在於尋找、插入的時間複雜度較低\n",
    "5. 最佳:O(log n)，最壞:O(n)--當放在root的數特別大或特別小，樹就會很不平衡，而尋找時間就會拉長(優化的方法:紅黑樹......)"
   ]
  },
  {
   "cell_type": "markdown",
   "metadata": {},
   "source": [
    "##圖"
   ]
  },
  {
   "cell_type": "markdown",
   "metadata": {},
   "source": [
    "![https://github.com/Yu-TingTseng/MyLearningTrip/blob/master/%E5%9C%96%E7%89%87%E5%8D%80/S__28205058.jpg?raw=true]\n",
    "![https://github.com/Yu-TingTseng/MyLearningTrip/blob/master/%E5%9C%96%E7%89%87%E5%8D%80/S__28205060.jpg?raw=true]"
   ]
  },
  {
   "cell_type": "markdown",
   "metadata": {},
   "source": [
    "##程式碼"
   ]
  },
  {
   "cell_type": "code",
   "execution_count": 180,
   "metadata": {},
   "outputs": [],
   "source": [
    "class TreeNode(object): #建立節點\n",
    "    def __init__(self,x):\n",
    "        self.val = x\n",
    "        self.left = None\n",
    "        self.right = None\n",
    "        \"\"\"\n",
    "        :type val: int\n",
    "        :type left: TreeNode or None\n",
    "        :type right: TreeNode or None\n",
    "        \"\"\"        "
   ]
  },
  {
   "cell_type": "code",
   "execution_count": 230,
   "metadata": {},
   "outputs": [],
   "source": [
    "class Solution(object):\n",
    "    def insert(self, root, val):\n",
    "        \"\"\"\n",
    "        :type root: TreeNode\n",
    "        :type val: int\n",
    "        :rtype: TreeNode(inserted node)\n",
    "        \"\"\"\n",
    "        if root.val == None: #如果root不存在\n",
    "            root=TreeNode(val) #建立一個新節點\n",
    "            return root #回傳root\n",
    "        else: #root存在\n",
    "            if val > root.val: #val比root大\n",
    "                if root.right==None:#且右子點不存在\n",
    "                    root.right=TreeNode(val) #建立一個新節點\n",
    "                    return root.right #回傳這個新節點\n",
    "                else:\n",
    "                    return Solution().insert(root.right,val)\n",
    " \n",
    "            elif val<= root.val:\n",
    "                if root.left==None: #且左子點不存在\n",
    "                    root.left=TreeNode(val) #建立一個新節點\n",
    "                    return root.left #回傳這個新節點\n",
    "                else:                    \n",
    "                    return Solution().insert(root.left,val)"
   ]
  },
  {
   "cell_type": "code",
   "execution_count": 169,
   "metadata": {},
   "outputs": [],
   "source": [
    "class Solution(object):\n",
    "    def search(self, root, target):\n",
    "        \"\"\"\n",
    "        :type root: TreeNode\n",
    "        :type target: int\n",
    "        :rtype: TreeNode(searched node)\n",
    "        \"\"\"\n",
    "        if root.val == None: #如果root不存在\n",
    "            return \"None\"\n",
    "        else: #root存在\n",
    "            if target > root.val: #target比root大\n",
    "                if root.right==None:#且右子點不存在\n",
    "                    return \"None\"\n",
    "                else:\n",
    "                    return Solution().search(root.right,target)\n",
    "            elif target< root.val: #target比root小\n",
    "                if root.left==None: #且左子點不存在\n",
    "                    return \"None\"\n",
    "                else:                    \n",
    "                    return Solution().search(root.left,target)\n",
    "            else: #等於root\n",
    "                return root #不能打等於target"
   ]
  },
  {
   "cell_type": "code",
   "execution_count": 205,
   "metadata": {},
   "outputs": [],
   "source": [
    "class Solution(object):\n",
    "    def search(self, root, target):\n",
    "\n",
    "        if root.val == None: #如果root不存在\n",
    "            return None\n",
    "        else: #root存在\n",
    "            if target > root.val: #target比root大\n",
    "                if root.right==None:#且右子點不存在\n",
    "                    return None\n",
    "                else:\n",
    "                    return Solution().search(root.right,target)\n",
    "            elif target< root.val: #target比root小\n",
    "                if root.left==None: #且左子點不存在\n",
    "                    return None\n",
    "                else:                    \n",
    "                    return Solution().search(root.left,target)\n",
    "            else: #等於root\n",
    "                return root #不能打等於target\n",
    "    def delete(self, root, target):\n",
    "\n",
    "        if Solution().search(root,target)==None: #在樹裡找不到需要刪除的值時，略過\n",
    "            return None\n",
    "        else: #target存在\n",
    "            target =root\n",
    "            if root.left==None and root.right==None:\n",
    "                return root==None\n",
    "            elif root.left==None and root.right:\n",
    "                root.right=a\n",
    "                root=b\n",
    "                root.right=b\n",
    "                root=a\n",
    "                return root.right==None\n",
    "            elif root.right==None and root.left:\n",
    "                root.left=a\n",
    "                root=b\n",
    "                root.left=b\n",
    "                root=a\n",
    "                return root.left==None\n",
    "            else:\n",
    "                return root==None                "
   ]
  },
  {
   "cell_type": "code",
   "execution_count": 226,
   "metadata": {},
   "outputs": [],
   "source": [
    "class Solution(object):\n",
    "    def search(self, root, target):\n",
    "\n",
    "        if root.val == None: #如果root不存在\n",
    "            return None\n",
    "        else: #root存在\n",
    "            if target > root.val: #target比root大\n",
    "                if root.right==None:#且右子點不存在\n",
    "                    return None\n",
    "                else:\n",
    "                    return Solution().search(root.right,target)\n",
    "            elif target< root.val: #target比root小\n",
    "                if root.left==None: #且左子點不存在\n",
    "                    return None\n",
    "                else:                    \n",
    "                    return Solution().search(root.left,target)\n",
    "            else: #等於root\n",
    "                return root #不能打等於target\n",
    "    def delete(self, root, target):\n",
    "\n",
    "        if Solution().search(root,target)==None: #在樹裡找不到需要刪除的值時，略過\n",
    "            return None\n",
    "        else: #target存在\n",
    "            target =root\n",
    "            if root.left==None and root.right==None: #左右都沒有子節點\n",
    "                return root==None\n",
    "            elif root.left==None and root.right:#只有右邊\n",
    "                root.right=a\n",
    "                root=b\n",
    "                root.right=b\n",
    "                root=a\n",
    "                return root.right==None\n",
    "            elif root.right==None and root.left:#只有左邊\n",
    "                root.left=a\n",
    "                root=b\n",
    "                root.left=b\n",
    "                root=a\n",
    "                return root.left==None\n",
    "            else: #兩邊都有\n",
    "                return root==None\n",
    "    def modify(self, root, target, new_val):#還在思索中\n",
    "        if Solution().search(root,target)==None: #如果沒有需要刪除target時\n",
    "\n",
    "            return \n",
    "        else: #有target需要刪除\n",
    "            return Solution().delete(root,target)\n",
    "            "
   ]
  },
  {
   "cell_type": "code",
   "execution_count": 227,
   "metadata": {},
   "outputs": [],
   "source": [
    "root=TreeNode(5)\n",
    "Node1=TreeNode(3)\n",
    "Node2=TreeNode(3)\n",
    "Node3=TreeNode(-5)\n",
    "Node4=TreeNode(8)\n",
    "Node5=TreeNode(7)\n",
    "Node6=TreeNode(6)\n",
    "Node7=TreeNode(10)\n",
    "root.left=Node1\n",
    "root.right=Node4\n",
    "Node1.left=Node2\n",
    "Node2.left=Node3\n",
    "Node4.left=Node5\n",
    "Node5.left=Node6\n",
    "Node4.right=Node7"
   ]
  },
  {
   "cell_type": "code",
   "execution_count": 231,
   "metadata": {},
   "outputs": [
    {
     "name": "stdout",
     "output_type": "stream",
     "text": [
      "True\n"
     ]
    }
   ],
   "source": [
    "print(Solution().insert(root,-6)==root.left.left.left.left)"
   ]
  },
  {
   "cell_type": "code",
   "execution_count": 212,
   "metadata": {},
   "outputs": [
    {
     "name": "stdout",
     "output_type": "stream",
     "text": [
      "True\n"
     ]
    }
   ],
   "source": [
    "print(Solution().search(root,8)==root.right)"
   ]
  },
  {
   "cell_type": "code",
   "execution_count": 219,
   "metadata": {},
   "outputs": [
    {
     "name": "stdout",
     "output_type": "stream",
     "text": [
      "None\n"
     ]
    }
   ],
   "source": [
    "print(Solution().search(root,))"
   ]
  },
  {
   "cell_type": "code",
   "execution_count": 224,
   "metadata": {},
   "outputs": [
    {
     "name": "stdout",
     "output_type": "stream",
     "text": [
      "False\n"
     ]
    }
   ],
   "source": [
    "Solution().delete(root,3)\n",
    "print(root.val==5 and root.left.val==-5 and root.left.left==None)"
   ]
  },
  {
   "cell_type": "code",
   "execution_count": 229,
   "metadata": {},
   "outputs": [
    {
     "data": {
      "text/plain": [
       "False"
      ]
     },
     "execution_count": 229,
     "metadata": {},
     "output_type": "execute_result"
    }
   ],
   "source": [
    "Solution().modify(root,7,4)"
   ]
  },
  {
   "cell_type": "markdown",
   "metadata": {},
   "source": [
    "##錯誤區"
   ]
  },
  {
   "cell_type": "code",
   "execution_count": 95,
   "metadata": {},
   "outputs": [],
   "source": [
    "def insert(self, root, val):\n",
    "    \"\"\"\n",
    "    :type root: TreeNode\n",
    "    :type val: int\n",
    "    :rtype: TreeNode(inserted node)\n",
    "    \"\"\"\n",
    "    if val > root.val:\n",
    "        root.right=root #就會一直重付比較這兩個數，原本的root會被帶換掉\n",
    "        return Solution().insert(self,root,val) \n",
    "    elif val< root.val:\n",
    "        root.left=root\n",
    "        return Solution().insert(self,root,val)\n",
    "    else:\n",
    "        root.left=root\n",
    "        return Solution().insert(self,root,val)"
   ]
  },
  {
   "cell_type": "code",
   "execution_count": null,
   "metadata": {},
   "outputs": [],
   "source": [
    "def search(self, root, target):\n",
    "    \"\"\"\n",
    "    :type root: TreeNode\n",
    "    :type target: int\n",
    "    :rtype: TreeNode(searched node)\n",
    "    \"\"\"\n",
    "    if root.val == None:\n",
    "        return None\n",
    "    else:\n",
    "        if target > root.val:\n",
    "            if root.right==None:\n",
    "                return None\n",
    "            else:\n",
    "                return Solution().search(root.right,target)\n",
    "        elif target<= root.val:#在search裡等於要拉出來單獨討論，不然會一直進入迴圈，然後不管什麼值輸入，都會跑出false\n",
    "            if root.left==None:\n",
    "                return None \n",
    "            else:                    \n",
    "                return Solution().search(root.left,target)"
   ]
  },
  {
   "cell_type": "code",
   "execution_count": null,
   "metadata": {},
   "outputs": [],
   "source": [
    "print(Solution().search(root,3)==root.left)#第二個3會找不到，不知道該怎麼修改才行"
   ]
  },
  {
   "cell_type": "code",
   "execution_count": null,
   "metadata": {},
   "outputs": [],
   "source": [
    "    def search(self, root, target):\n",
    "        \"\"\"\n",
    "        :type root: TreeNode\n",
    "        :type target: int\n",
    "        :rtype: TreeNode(searched node)\n",
    "        \"\"\"\n",
    "        if root.val == None: #如果root不存在\n",
    "            return target #直接回傳target，因為target不等於None所以印出來會是false\n",
    "        \n",
    "        else: #root存在\n",
    "            if target > root.val: #target比root大\n",
    "                if root.right==None:#且右子點不存在\n",
    "                    return target #直接回傳target，因為target不等於None所以印出來會是false\n",
    "                \n",
    "                else:\n",
    "                    return Solution().search(root.right,target) #如果存在持續比較，一直呼喚自己(第一次作業一樣的概念)\n",
    "                \n",
    "            elif target< root.val: #target比root小\n",
    "                if root.left==None: #且左子點不存在\n",
    "                    return target #直接回傳target，因為target不等於None所以印出來會是false\n",
    "                \n",
    "                else:                    \n",
    "                    return Solution().search(root.left,target) #如果存在持續比較，一直呼喚自己(第一次作業一樣的概念)\n",
    "                \n",
    "            else: #等於root\n",
    "            #在search裡等於要拉出來單獨討論，不然會一直進入迴圈，然後不管什麼值輸入，都會跑出false\n",
    "                return root #不能打等於target"
   ]
  },
  {
   "cell_type": "markdown",
   "metadata": {},
   "source": [
    "##參考資料:"
   ]
  },
  {
   "cell_type": "markdown",
   "metadata": {},
   "source": [
    "http://alrightchiu.github.io/SecondRound/binary-search-tree-introjian-jie.html\n",
    "    \n",
    "https://emn178.pixnet.net/blog/post/94574434\n",
    "    \n",
    "https://zh.wikipedia.org/wiki/%E4%BA%8C%E5%85%83%E6%90%9C%E5%B0%8B%E6%A8%B9\n",
    "    \n",
    "https://www.youtube.com/watch?v=H5JubkIy_p8\n",
    "\n",
    "https://github.com/Yu-TingTseng/MyLearningTrip/blob/master/HomeWork1/HW01.ipynb"
   ]
  }
 ],
 "metadata": {
  "kernelspec": {
   "display_name": "Python 3",
   "language": "python",
   "name": "python3"
  },
  "language_info": {
   "codemirror_mode": {
    "name": "ipython",
    "version": 3
   },
   "file_extension": ".py",
   "mimetype": "text/x-python",
   "name": "python",
   "nbconvert_exporter": "python",
   "pygments_lexer": "ipython3",
   "version": "3.7.1"
  }
 },
 "nbformat": 4,
 "nbformat_minor": 2
}
