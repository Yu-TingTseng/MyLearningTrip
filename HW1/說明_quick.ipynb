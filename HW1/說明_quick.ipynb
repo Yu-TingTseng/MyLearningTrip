{
 "cells": [
  {
   "cell_type": "markdown",
   "metadata": {},
   "source": [
    "## HW1:Quick Sort"
   ]
  },
  {
   "cell_type": "markdown",
   "metadata": {},
   "source": [
    "## What is \"Quick Sort\"?"
   ]
  },
  {
   "cell_type": "markdown",
   "metadata": {},
   "source": [
    "快速排序法，是排序法中平均較快速，但也有可能因為陣列本身排序不適合此種排序法，而需要O(n^2)時間。\n",
    "排序方式是選定一個數為基準點(pivot,通常為中間值)，接著從第一個數開始依序跟基準點比大小，小的放左邊，大的放右邊，接著左右兩邊的陣列也做上述相同的步驟，選一個基準點、比大小，重複進行。"
   ]
  },
  {
   "cell_type": "markdown",
   "metadata": {},
   "source": [
    "## Explanation"
   ]
  },
  {
   "cell_type": "markdown",
   "metadata": {},
   "source": [
    "定義一個函式quicksort\\n\n",
    "    * 如果陣列裡的數值只有一個或為空陣列，則無需排列，直接回傳\\n\n",
    "    * 接著，設陣列裡的中間值為基準點pivot\\n\n",
    "    * 依序從第一個數開始\\n\n",
    "        * 比pivot大的數放入bg_list\\n\n",
    "        * 比pivot小的數放入sm_list\\n\n",
    "        * 跟pivot一樣大的數放入pv_list\\n\n",
    "    * 利用函式進行迴圈，最後在合併"
    
   ]
  },
  {
   "cell_type": "markdown",
   "metadata": {},
   "source": [
    "## Example"
   ]
  },
  {
   "cell_type": "code",
   "execution_count": 2,
   "metadata": {},
   "outputs": [
    {
     "data": {
      "text/plain": [
       "[7, 43, 26, 1, 33, 5]"
      ]
     },
     "execution_count": 2,
     "metadata": {},
     "output_type": "execute_result"
    }
   ],
   "source": [
    "[7,43,26,1,33,5]"
   ]
  },
  {
   "cell_type": "code",
   "execution_count": 5,
   "metadata": {},
   "outputs": [
    {
     "data": {
      "text/plain": [
       "[1, 5, 7, 26, 33, 43]"
      ]
     },
     "execution_count": 5,
     "metadata": {},
     "output_type": "execute_result"
    }
   ],
   "source": [
    "og=[7,43,26,1,33,5]\n",
    "def quicksort(list):\n",
    "        while len(list)<=1:#當陣列裡的數值只有一個或為空陣列，則無需排列，直接回傳\n",
    "            return list\n",
    "    \n",
    "        else:\n",
    "            sm_list=[]\n",
    "            pv_list=[]\n",
    "            bg_list=[]\n",
    "            pv=list[len(list)//2-1] #設陣列裡的中間值為pivot\n",
    "            \n",
    "            for a in list:\n",
    "                if a < pv: #比pivot小的數\n",
    "                    sm_list.append(a)\n",
    "                elif a > pv: #比pivot大的數\n",
    "                    bg_list.append(a)\n",
    "                else:   #跟pivot一樣大的數\n",
    "                    pv_list.append(a)\n",
    "                    \n",
    "        sm_list=quicksort(sm_list)\n",
    "        bg_list=quicksort(bg_list)\n",
    "        #不用加pv_list=quicksort(pv_list)?pv_list本來就是最後才比較裡面已經都排好了，但為什麼加了會有錯\n",
    "        return sm_list + pv_list + bg_list\n",
    "    \n",
    "quicksort(og)"
   ]
  },
  {
   "cell_type": "markdown",
   "metadata": {},
   "source": [
    "## Other confused or answer"
   ]
  },
  {
   "cell_type": "markdown",
   "metadata": {},
   "source": [
    "此程式碼引用http://jialin128.pixnet.net/blog/post/142927691-%5B-%E8%B3%87%E6%96%99%E7%B5%90%E6%A7%8B-%5D-%E5%BF%AB%E9%80%9F%E6%8E%92%E5%BA%8F%E6%B3%95%EF%BC%88quick-sort%EF%BC%89in-python"
   ]
  },
  {
   "cell_type": "code",
   "execution_count": null,
   "metadata": {},
   "outputs": [],
   "source": [
    "def quick_sort(list): \n",
    "    smaller = []\n",
    "    bigger = []\n",
    "    keylist = []\n",
    "    \n",
    "    if len(list) <= 1:\n",
    "         return list\n",
    "    \n",
    "    else:\n",
    "        key = list[0] #第一個數為pivot\n",
    "        for i in list:\n",
    "             if i < key: #比pivot小的數\n",
    "                    smaller.append(i)\n",
    "            elif i > key: #比pivot大的數\\\n",
    "                bigger.append(i)\n",
    "            else:\n",
    "                keylist.append(i)\n",
    "\n",
    "    smaller = quick_sort(smaller)\n",
    "    bigger = quick_sort(bigger)\n",
    "    return smaller + keylist + bigger\n",
    "quick_sort(og)"
   ]
  }
 ],
 "metadata": {
  "kernelspec": {
   "display_name": "Python 3",
   "language": "python",
   "name": "python3"
  },
  "language_info": {
   "codemirror_mode": {
    "name": "ipython",
    "version": 3
   },
   "file_extension": ".py",
   "mimetype": "text/x-python",
   "name": "python",
   "nbconvert_exporter": "python",
   "pygments_lexer": "ipython3",
   "version": "3.7.1"
  }
 },
 "nbformat": 4,
 "nbformat_minor": 2
}
