{
 "cells": [
  {
   "cell_type": "markdown",
   "metadata": {},
   "source": [
    "##機器學習"
   ]
  },
  {
   "cell_type": "code",
   "execution_count": 1,
   "metadata": {},
   "outputs": [],
   "source": [
    "import pandas as pd"
   ]
  },
  {
   "cell_type": "code",
   "execution_count": 2,
   "metadata": {},
   "outputs": [],
   "source": [
    "import numpy as np"
   ]
  },
  {
   "cell_type": "code",
   "execution_count": 3,
   "metadata": {},
   "outputs": [],
   "source": [
    "import matplotlib.pyplot as plt"
   ]
  },
  {
   "cell_type": "code",
   "execution_count": 4,
   "metadata": {},
   "outputs": [],
   "source": [
    "from sklearn import datasets"
   ]
  },
  {
   "cell_type": "code",
   "execution_count": 5,
   "metadata": {},
   "outputs": [
    {
     "name": "stdout",
     "output_type": "stream",
     "text": [
      "第 0 項: 0\n",
      "第 1 項: 1\n",
      "第 2 項: 1\n",
      "第 3 項: 2\n",
      "第 4 項: 3\n",
      "第 5 項: 5\n",
      "第 6 項: 8\n",
      "第 7 項: 13\n",
      "第 8 項: 21\n",
      "第 9 項: 34\n",
      "第 10 項: 55\n",
      "第 11 項: 89\n",
      "第 12 項: 144\n",
      "第 13 項: 233\n",
      "第 14 項: 377\n",
      "第 15 項: 610\n",
      "第 16 項: 987\n",
      "第 17 項: 1597\n",
      "第 18 項: 2584\n",
      "第 19 項: 4181\n"
     ]
    }
   ],
   "source": [
    "def fibonacci(n):\n",
    "    if n<2:\n",
    "        return n\n",
    "    return fibonacci(n-1)+fibonacci(n-2)\n",
    "n=0\n",
    "for n in range(0,20):\n",
    "    print(\"第\",n,\"項:\",fibonacci(n))"
   ]
  },
  {
   "cell_type": "code",
   "execution_count": 6,
   "metadata": {},
   "outputs": [
    {
     "data": {
      "text/plain": [
       "Text(0, 0.5, 'y')"
      ]
     },
     "execution_count": 6,
     "metadata": {},
     "output_type": "execute_result"
    },
    {
     "data": {
      "image/png": "[encoded data removed]",
      "text/plain": [
       "<Figure size 432x288 with 1 Axes>"
      ]
     },
     "metadata": {
      "needs_background": "light"
     },
     "output_type": "display_data"
    }
   ],
   "source": [
    "x=np.linspace(-3,3)\n",
    "y=5*x**3-2*x+1\n",
    "plt.plot(x,y)\n",
    "plt.title(\"y=5x**3-2x+1\")\n",
    "plt.xlabel(\"x\")\n",
    "plt.ylabel(\"y\")"
   ]
  }
 ],
 "metadata": {
  "kernelspec": {
   "display_name": "Python 3",
   "language": "python",
   "name": "python3"
  },
  "language_info": {
   "codemirror_mode": {
    "name": "ipython",
    "version": 3
   },
   "file_extension": ".py",
   "mimetype": "text/x-python",
   "name": "python",
   "nbconvert_exporter": "python",
   "pygments_lexer": "ipython3",
   "version": "3.7.1"
  }
 },
 "nbformat": 4,
 "nbformat_minor": 2
}
