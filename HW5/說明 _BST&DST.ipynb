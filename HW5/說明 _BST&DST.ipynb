{
 "cells": [
  {
   "cell_type": "markdown",
   "metadata": {},
   "source": [
    "# BFS"
   ]
  },
  {
   "cell_type": "markdown",
   "metadata": {},
   "source": [
    "廣度優先搜尋演算法，又稱寬度優先搜尋或是橫向優先搜尋，是一種圖形搜尋演算法，從根節點(s)開始，沿著樹的寬度(鄰近點)遍歷樹的節點。當所有點均被訪問且存取，演算法結束。(實際作法請看圖)\n",
    "\n",
    "時間複雜度：O(|V|+|E|) = O(b^d)\n",
    "\n",
    "空間複雜度：O(|V|+|E|) = O(b^d)\n",
    "\n",
    "實際應用上，用以解決圖論問題:\n",
    "    1. 尋找圖中所有連接元件\n",
    "    2. 尋找連接元件中的所有節點\n",
    "    3. 尋找非加權圖中任兩點的最短路徑(然而在加權圖形中，BFS通常不會回傳最佳解)\n",
    "    4. 測試一圖是否為二分圖"
   ]
  },
  {
   "cell_type": "markdown",
   "metadata": {},
   "source": [
    "# DFS"
   ]
  },
  {
   "cell_type": "markdown",
   "metadata": {},
   "source": [
    "深度優先搜尋演算法，是一種圖形搜尋演算法，沿著樹的深度遍歷樹的點，先將一支根上的先搜尋完(最深處)，再往下一個節點走，當所有點均被訪問且存取，演算法結束。為了解Maze Problem而生的演算法。(實際作法請看圖)\n",
    "\n",
    "時間複雜度：O(b^m)\n",
    "\n",
    "空間複雜度：O(bm)\n",
    "\n",
    "實際應用上，用以解決圖論問題:\n",
    "    1. 尋找圖中所有連接元件\n",
    "    2. 尋找連接元件中的所有節點\n",
    "    3. 測試一圖是否為二分圖"
   ]
  },
  {
   "cell_type": "markdown",
   "metadata": {},
   "source": [
    "# 兩者之比較"
   ]
  },
  {
   "cell_type": "markdown",
   "metadata": {},
   "source": [
    "1. 解法(在同一個圖形中，從同一點出發):\n",
    "    \n",
    "    (BST)可能不只一種解(若為加權圖形，通常非最佳解)\n",
    "    \n",
    "    (DST)只會有一種解(為最佳解)\n",
    "    \n",
    "2. 走法:\n",
    "    \n",
    "    (BST)以廣度為優先\n",
    "    \n",
    "    (DST)以深度為優先\n",
    "    \n",
    "3. 優勢:\n",
    "    \n",
    "    (BST)找出非加權圖中任兩點的最短路徑\n",
    "    \n",
    "    (DST)儲存指標記憶體空間所需較小、實際應用較常使用(遞迴較簡單、方便管理)\n",
    "    \n",
    "4. 劣勢:\n",
    "    \n",
    "    (BST)儲存指標記憶體空間所需較大、無法找出加權圖的最佳解\n",
    "    \n",
    "    (DST)較難求出"
   ]
  },
  {
   "cell_type": "markdown",
   "metadata": {},
   "source": [
    "# 流程圖"
   ]
  },
  {
   "cell_type": "markdown",
   "metadata": {},
   "source": [
    "![流程圖](https://github.com/Yu-TingTseng/MyLearningTrip/blob/master/%E5%9C%96%E7%89%87%E5%8D%80/S__29982722.jpg?raw=true)"
   ]
  },
  {
   "cell_type": "markdown",
   "metadata": {},
   "source": [
    "如果圖片顯示不出來請點:\n",
    "https://github.com/Yu-TingTseng/MyLearningTrip/blob/master/%E5%9C%96%E7%89%87%E5%8D%80/S__29982722.jpg"
   ]
  },
  {
   "cell_type": "markdown",
   "metadata": {},
   "source": [
    "## 測試值"
   ]
  },
  {
   "cell_type": "code",
   "execution_count": 13,
   "metadata": {},
   "outputs": [
    {
     "name": "stdout",
     "output_type": "stream",
     "text": [
      "[2, 0, 3, 1]\n",
      "[2, 3, 0, 1]\n"
     ]
    }
   ],
   "source": [
    "g = Graph()\n",
    "g.addEdge(0,1)\n",
    "g.addEdge(0,2)\n",
    "g.addEdge(1,2)\n",
    "g.addEdge(2,0)\n",
    "g.addEdge(2,3)\n",
    "g.addEdge(3,3)\n",
    "print(g.BFS(2))\n",
    "print(g.DFS(2))"
   ]
  },
  {
   "cell_type": "markdown",
   "metadata": {},
   "source": [
    "## 程式碼"
   ]
  },
  {
   "cell_type": "code",
   "execution_count": 12,
   "metadata": {},
   "outputs": [],
   "source": [
    "from collections import defaultdict \n",
    "\n",
    "class Graph:\n",
    "    # Constructor \n",
    "    def __init__(self): \n",
    "        # default dictionary to store graph \n",
    "        self.graph = defaultdict(list) \n",
    "\n",
    "    # function to add an edge to graph \n",
    "    def addEdge(self,u,v): \n",
    "        self.graph[u].append(v) \n",
    "  \n",
    "    # Function to print a BFS of graph \n",
    "    def BFS(self, s): \n",
    "        \"\"\"\n",
    "        :type s: int\n",
    "        :rtype: list\n",
    "        \"\"\"\n",
    "        tem_list=[] #先創造一個空list，用作暫存\n",
    "        tem_list.append(s)\n",
    "        out_list=[] #創一個output list\n",
    "\n",
    "        if len(out_list)==len(self.graph): #當全部走訪且存取完\n",
    "            return out_list #回傳存取結果\n",
    "        else:\n",
    "            while len(tem_list)!=0: #這裡不能使用if，if\"只\"是判斷式，過了就過了，而while則是迴圈，如果沒有return或break就不會停止\n",
    "                a=tem_list.pop(0) #走過之後，踢除，因為判斷式是看暫存list裡還有沒有值\n",
    "                out_list.append(a) #要放進去\n",
    "                for n in self.graph[a]: #進行for迴圈去把值一個一個放進list\n",
    "                    if n not in out_list: #當點沒有在我要輸出的list裡\n",
    "                        tem_list.append(n) #要放進去，之後再跑一次while迴圈會被剔除，不用擔心                        \n",
    "                if len(out_list)==len(self.graph): #當全部走訪且存取完\n",
    "                    return out_list #回傳存取結果 \n",
    "     \n",
    "    # Function to print a DFS of graph\n",
    "    def DFS(self, s):\n",
    "        \"\"\"\n",
    "        :type s: int\n",
    "        :rtype: list\n",
    "        \"\"\"\n",
    "        tem_list=[] #先創造一個空list，用作暫存\n",
    "        tem_list.append(s)\n",
    "        out_list=[] #創一個output list\n",
    "        if len(out_list)==len(self.graph): #當全部走訪且存取完\n",
    "            return out_list #回傳存取結果\n",
    "        else:\n",
    "            while len(tem_list)!=0: #當tem_list裡有東西\n",
    "                a=tem_list.pop() #最後一個pop掉，\n",
    "                out_list.append(a) #放入out_list\n",
    "                for n in self.graph[a]: \n",
    "                    if n not in out_list: #當n還沒放入out_put裡 (當點沒有在我要輸出的list裡)                                               \n",
    "                        tem_list.append(n) \n",
    "                if len(out_list)==len(self.graph): #當全部走訪且存取完\n",
    "                    return out_list #回傳存取結果"
   ]
  },
  {
   "cell_type": "code",
   "execution_count": 1,
   "metadata": {},
   "outputs": [],
   "source": [
    "from collections import defaultdict "
   ]
  },
  {
   "cell_type": "code",
   "execution_count": 2,
   "metadata": {},
   "outputs": [],
   "source": [
    "class Graph:\n",
    " \n",
    "    def __init__(self): \n",
    "        self.graph = defaultdict(list) \n",
    "\n",
    "    def addEdge(self,u,v): \n",
    "        self.graph[u].append(v) \n",
    "  \n",
    "    def BFS(self, s):\n",
    "        tem_list=[] #先創造一個空list，用作暫存\n",
    "        tem_list.append(s)\n",
    "        out_list=[] #創一個output list\n",
    "        out_list.append(s)\n",
    "        if len(out_list)==len(self.graph): #當全部走訪且存取完\n",
    "            return out_list #回傳存取結果\n",
    "        else:\n",
    "            if tem_list != None:\n",
    "                a=tem_list.pop()\n",
    "                for n in self.graph[a]:\n",
    "                    if n in out_list:\n",
    "                        return \n",
    "                    elif n not in out_list:\n",
    "                        tem_list.append(n)\n",
    "                        out_list.append(n)\n",
    "                return out_list\n",
    "            \n",
    "#[2, 0, 3]少了一個\n",
    "#後來發現是只跑了一次，少了一層"
   ]
  },
  {
   "cell_type": "code",
   "execution_count": 4,
   "metadata": {},
   "outputs": [],
   "source": [
    "class Graph:\n",
    " \n",
    "    def __init__(self): \n",
    "        self.graph = defaultdict(list) \n",
    "\n",
    "    def addEdge(self,u,v): \n",
    "        self.graph[u].append(v) \n",
    "  \n",
    "    def BFS(self, s):\n",
    "        tem_list=[] #先創造一個空list，用作暫存\n",
    "        tem_list.append(s)\n",
    "        out_list=[] #創一個output list\n",
    "        out_list.append(s)\n",
    "        #if len(out_list)==len(self.graph): #當全部走訪且存取完\n",
    "        #    return out_list #回傳存取結果\n",
    "        #else:\n",
    "        if tem_list != None:\n",
    "            a=tem_list.pop()\n",
    "            for n in self.graph[a]:\n",
    "                while n not in out_list:\n",
    "                    tem_list.append(n)\n",
    "                    out_list.append(n)         \n",
    "        return out_list\n",
    "##[2, 0, 3]，少了一個\n",
    "#同上，後來發現是只跑了一次，少了一層"
   ]
  },
  {
   "cell_type": "code",
   "execution_count": 40,
   "metadata": {},
   "outputs": [],
   "source": [
    "class Graph:\n",
    " \n",
    "    def __init__(self): \n",
    "        self.graph = defaultdict(list) \n",
    "\n",
    "    def addEdge(self,u,v): \n",
    "        self.graph[u].append(v) \n",
    "  \n",
    "    def BFS(self, s):\n",
    "        tem_list=[] #先創造一個空list，用作暫存\n",
    "        tem_list.append(s)\n",
    "        out_list=[] #創一個output list\n",
    "        out_list.append(s)\n",
    "        if len(out_list)==len(self.graph): #當全部走訪且存取完\n",
    "            return out_list #回傳存取結果\n",
    "        else:\n",
    "            if tem_list != None:\n",
    "                a=tem_list.pop()\n",
    "                for n in self.graph[a]:\n",
    "                    if n in out_list:\n",
    "                        return \n",
    "                    elif n not in out_list:\n",
    "                        tem_list.append(n)\n",
    "                        out_list.append(n)\n",
    "                    return self.BFS(n)\n",
    "##RecursionError: maximum recursion depth exceeded while calling a Python object\n",
    "#\"self.BFS(n)\"會一直重複進行無用的搜尋"
   ]
  },
  {
   "cell_type": "code",
   "execution_count": 29,
   "metadata": {},
   "outputs": [],
   "source": [
    "class Graph:\n",
    " \n",
    "    def __init__(self): \n",
    "        self.graph = defaultdict(list) \n",
    "\n",
    "    def addEdge(self,u,v): \n",
    "        self.graph[u].append(v) \n",
    "  \n",
    "    def BFS(self, s):\n",
    "        tem_list=[] #先創造一個空list，用作暫存\n",
    "        tem_list.append(s)\n",
    "        out_list=[] #創一個output list\n",
    "        out_list.append(s)\n",
    "        if len(out_list)==len(self.graph): #當全部走訪且存取完\n",
    "            return out_list #回傳存取結果\n",
    "        else:\n",
    "            while len(tem_list)!=0: #這裡不能使用if，if\"只\"是判斷式，過了就過了，而while則是迴圈，如果沒有return或break就不會停止\n",
    "                a=tem_list.pop() #走過之後，踢除，因為判斷式是看暫存list裡還有沒有值\n",
    "                for n in self.graph[a]: #進行for迴圈去把值一個一個放進list\n",
    "                    while n not in out_list: #當點沒有在我要輸出的list裡\n",
    "                        tem_list.append(n) #要放進去，之後再跑一次while迴圈會被剔除，不用擔心\n",
    "                        out_list.append(n) #要放進去\n",
    "\n",
    "                if len(out_list)==len(self.graph): #當全部走訪且存取完\n",
    "                    return out_list #回傳存取結果       \n",
    "            \n",
    "#終於對了\n",
    "#我發現我會因為英文的解釋很像，而在函式使用上會出現誤區，不夠了解各個函式的正確意義，例如:上面的if跟while就傻傻分不清楚\n",
    "#if\"只\"是判斷式，過了就過了，而while則是迴圈，如果沒有return或break就不會停止，迴圈跟判斷式不一樣"
   ]
  },
  {
   "cell_type": "code",
   "execution_count": 5,
   "metadata": {},
   "outputs": [
    {
     "name": "stdout",
     "output_type": "stream",
     "text": [
      "[2, 0, 3, 1]\n",
      "4\n"
     ]
    }
   ],
   "source": [
    "g = Graph()\n",
    "g.addEdge(0,1)\n",
    "g.addEdge(0,2)\n",
    "g.addEdge(1,2)\n",
    "g.addEdge(2,0)\n",
    "g.addEdge(2,3)\n",
    "g.addEdge(3,3)\n",
    "print(g.BFS(2))\n",
    "print(len(g.graph))"
   ]
  },
  {
   "cell_type": "code",
   "execution_count": 167,
   "metadata": {},
   "outputs": [
    {
     "data": {
      "text/plain": [
       "[1]"
      ]
     },
     "execution_count": 167,
     "metadata": {},
     "output_type": "execute_result"
    }
   ],
   "source": [
    "s=1\n",
    "tem_list=[]#先創造一個空list，用作暫存\n",
    "tem_list.append(s)\n",
    "tem_list"
   ]
  },
  {
   "cell_type": "code",
   "execution_count": 100,
   "metadata": {},
   "outputs": [],
   "source": [
    "class Graph:\n",
    " \n",
    "    def __init__(self): \n",
    "        self.graph = defaultdict(list) \n",
    "\n",
    "    def addEdge(self,u,v): \n",
    "        self.graph[u].append(v) \n",
    "  \n",
    "    def DFS(self, s):\n",
    "        tem_list=[] #先創造一個空list，用作暫存\n",
    "        tem_list.append(s)\n",
    "        out_list=[] #創一個output list\n",
    "        out_list.append(s)\n",
    "        if len(out_list)==len(self.graph): #當全部走訪且存取完\n",
    "            return out_list #回傳存取結果\n",
    "        else:\n",
    "            a=tem_list.pop()\n",
    "            for n in self.graph[a]:\n",
    "                while n not in out_list:\n",
    "                    out_list=self.DFS(n)\n",
    "                else:\n",
    "                    return \n",
    "            return out_list \n",
    "#RecursionError: maximum recursion depth exceeded while calling a Python object"
   ]
  },
  {
   "cell_type": "code",
   "execution_count": 105,
   "metadata": {},
   "outputs": [],
   "source": [
    "class Graph:\n",
    " \n",
    "    def __init__(self): \n",
    "        self.graph = defaultdict(list) \n",
    "\n",
    "    def addEdge(self,u,v): \n",
    "        self.graph[u].append(v) \n",
    "  \n",
    "    def DFS(self, s):\n",
    "        tem_list=[] #先創造一個空list，用作暫存\n",
    "        tem_list.append(s)\n",
    "        out_list=[] #創一個output list\n",
    "        out_list.append(s)\n",
    "        if len(out_list)==len(self.graph): #當全部走訪且存取完\n",
    "            return out_list #回傳存取結果\n",
    "        else:\n",
    "            a=tem_list.pop()\n",
    "            for n in self.graph[a]:\n",
    "                while n not in out_list:\n",
    "                    out_list=self.DFS(n)\n",
    "                else:\n",
    "                    yield\n",
    "                return out_list\n",
    "#<generator object Graph.DFS at 0x000001EC142347C8>"
   ]
  },
  {
   "cell_type": "code",
   "execution_count": 23,
   "metadata": {},
   "outputs": [],
   "source": [
    "class Graph:\n",
    " \n",
    "    def __init__(self): \n",
    "        self.graph = defaultdict(list) \n",
    "\n",
    "    def addEdge(self,u,v): \n",
    "        self.graph[u].append(v) \n",
    "  \n",
    "    def DFS(self, s):\n",
    "        tem_list=[] #先創造一個空list，用作暫存\n",
    "        tem_list.append(s)\n",
    "        out_list=[] #創一個output list\n",
    "        out_list.append(s)\n",
    "        if len(out_list)==len(self.graph): #當全部走訪且存取完\n",
    "            return out_list #回傳存取結果\n",
    "        else:\n",
    "            while len(tem_list)!=0:\n",
    "                a=tem_list.pop()\n",
    "                out_list.append(a)\n",
    "                for n in self.graph[a]:\n",
    "                    if n not in out_list:                                               \n",
    "                        out_list.append(n)  \n",
    "                        tem_list.append(n)\n",
    "            return out_list\n",
    "#[2, 2, 0, 3, 3, 0, 1, 1]\n",
    "#將out_list.append(s)及out_list.append(n)刪除，就好了"
   ]
  },
  {
   "cell_type": "code",
   "execution_count": 31,
   "metadata": {},
   "outputs": [],
   "source": [
    "class Graph:\n",
    " \n",
    "    def __init__(self): \n",
    "        self.graph = defaultdict(list) \n",
    "\n",
    "    def addEdge(self,u,v): \n",
    "        self.graph[u].append(v) \n",
    "  \n",
    "    def DFS(self, s):\n",
    "        tem_list=[] #先創造一個空list，用作暫存\n",
    "        tem_list.append(s)\n",
    "        out_list=[] #創一個output list\n",
    "        if len(out_list)==len(self.graph): #當全部走訪且存取完\n",
    "            return out_list #回傳存取結果\n",
    "        else:\n",
    "            while len(tem_list)!=0: #當tem_list裡有東西\n",
    "                a=tem_list.pop() #最後一個pop掉，\n",
    "                out_list.append(a) #放入out_list\n",
    "                for n in self.graph[a]: \n",
    "                    if n not in out_list: #當n還沒放入out_put裡                                                \n",
    "                        tem_list.append(n) \n",
    "                if len(out_list)==len(self.graph): #當全部走訪且存取完\n",
    "                    return out_list #回傳存取結果"
   ]
  },
  {
   "cell_type": "code",
   "execution_count": 2,
   "metadata": {},
   "outputs": [
    {
     "name": "stdout",
     "output_type": "stream",
     "text": [
      "[2, 3, 0, 1]\n",
      "4\n"
     ]
    }
   ],
   "source": [
    "g = Graph()\n",
    "g.addEdge(0,1)\n",
    "g.addEdge(0,2)\n",
    "g.addEdge(1,2)\n",
    "g.addEdge(2,0)\n",
    "g.addEdge(2,3)\n",
    "g.addEdge(3,3)\n",
    "print(g.DFS(2))\n",
    "print(len(g.graph))"
   ]
  },
  {
   "cell_type": "markdown",
   "metadata": {},
   "source": [
    "## 參考資料:"
   ]
  },
  {
   "cell_type": "markdown",
   "metadata": {},
   "source": [
    "https://docs.google.com/presentation/d/e/2PACX-1vTma_vOZyE70O23KWw4I4Y78aAaT5fJSTq7Mae912kCwka_u5ZMWPoo14D86-x-57kZPbb6hAGktSW4/pub?start=false&loop=false&delayms=3000&slide=id.g7a5d8b85ee_0_23\n",
    "\n",
    "https://docs.google.com/presentation/d/e/2PACX-1vSYJYXUXvGAeTZ5fknxj_-EPm3zxgy4ITdImrXzy63Y-iZgs8uwVNmOaZlnx9fUNzsbo8kphvMTa0c4/pub?start=false&loop=false&delayms=3000&slide=id.g7a5d8b85ee_0_39\n",
    "    \n",
    "https://www.youtube.com/watch?v=oLtvUWpAnTQ&t=195s\n",
    "    \n",
    "https://zh.wikipedia.org/wiki/%E5%B9%BF%E5%BA%A6%E4%BC%98%E5%85%88%E6%90%9C%E7%B4%A2\n",
    "    \n",
    "https://zh.wikipedia.org/wiki/%E6%B7%B1%E5%BA%A6%E4%BC%98%E5%85%88%E6%90%9C%E7%B4%A2\n",
    "\n",
    "https://www.itread01.com/content/1542363063.html\n",
    "\n",
    "https://openhome.cc/Gossip/Python/YieldGenerator.html"
   ]
  }
 ],
 "metadata": {
  "kernelspec": {
   "display_name": "Python 3",
   "language": "python",
   "name": "python3"
  },
  "language_info": {
   "codemirror_mode": {
    "name": "ipython",
    "version": 3
   },
   "file_extension": ".py",
   "mimetype": "text/x-python",
   "name": "python",
   "nbconvert_exporter": "python",
   "pygments_lexer": "ipython3",
   "version": "3.7.1"
  }
 },
 "nbformat": 4,
 "nbformat_minor": 2
}
